{
  "nbformat": 4,
  "nbformat_minor": 0,
  "metadata": {
    "colab": {
      "provenance": [],
      "gpuType": "T4",
      "authorship_tag": "ABX9TyP+JslagR+1qBvR4DG97U2f",
      "include_colab_link": true
    },
    "kernelspec": {
      "name": "python3",
      "display_name": "Python 3"
    },
    "language_info": {
      "name": "python"
    },
    "accelerator": "GPU"
  },
  "cells": [
    {
      "cell_type": "markdown",
      "metadata": {
        "id": "view-in-github",
        "colab_type": "text"
      },
      "source": [
        "<a href=\"https://colab.research.google.com/github/ryanou97/stock_predict_with_RNN/blob/main/stock_predict_with_RNN.ipynb\" target=\"_parent\"><img src=\"https://colab.research.google.com/assets/colab-badge.svg\" alt=\"Open In Colab\"/></a>"
      ]
    },
    {
      "cell_type": "code",
      "source": [
        "!pip install twstock\n",
        "\n",
        "import csv, os, time\n",
        "import twstock"
      ],
      "metadata": {
        "id": "iDlU2vl3UYPd",
        "colab": {
          "base_uri": "https://localhost:8080/"
        },
        "outputId": "ab2f0f1e-f219-4522-be09-b90b36f6a457"
      },
      "execution_count": 5,
      "outputs": [
        {
          "output_type": "stream",
          "name": "stdout",
          "text": [
            "Requirement already satisfied: twstock in /usr/local/lib/python3.10/dist-packages (1.3.1)\n",
            "Requirement already satisfied: requests in /usr/local/lib/python3.10/dist-packages (from twstock) (2.31.0)\n",
            "Requirement already satisfied: charset-normalizer<4,>=2 in /usr/local/lib/python3.10/dist-packages (from requests->twstock) (3.3.2)\n",
            "Requirement already satisfied: idna<4,>=2.5 in /usr/local/lib/python3.10/dist-packages (from requests->twstock) (3.4)\n",
            "Requirement already satisfied: urllib3<3,>=1.21.1 in /usr/local/lib/python3.10/dist-packages (from requests->twstock) (2.0.7)\n",
            "Requirement already satisfied: certifi>=2017.4.17 in /usr/local/lib/python3.10/dist-packages (from requests->twstock) (2023.7.22)\n"
          ]
        }
      ]
    },
    {
      "cell_type": "markdown",
      "source": [
        "## twstock 台股資料\n",
        "若無資料來源，可用台灣證券交易所的twstock套件抓取。不過沒辦法抓取整年，必須分每季下載，且每個IP有流量限制。\n"
      ],
      "metadata": {
        "id": "_O2OfJA-aHVl"
      }
    },
    {
      "cell_type": "code",
      "source": [
        "TSMC_stock = twstock.Stock('2330')\n",
        "\n",
        "print(\"日期：\",TSMC_stock.date[-1])\n",
        "print(\"開盤價：\",TSMC_stock.open[-1])\n",
        "print(\"最高價：\",TSMC_stock.high[-1])\n",
        "print(\"最低價：\",TSMC_stock.low[-1])\n",
        "print(\"收盤價：\",TSMC_stock.price[-1])"
      ],
      "metadata": {
        "id": "ORYjJRAsUcXg",
        "colab": {
          "base_uri": "https://localhost:8080/"
        },
        "outputId": "f158d137-7ab3-42c9-e252-1dfdd2879fff"
      },
      "execution_count": 6,
      "outputs": [
        {
          "output_type": "stream",
          "name": "stdout",
          "text": [
            "日期： 2023-11-10 00:00:00\n",
            "開盤價： 555.0\n",
            "最高價： 557.0\n",
            "最低價： 554.0\n",
            "收盤價： 557.0\n"
          ]
        }
      ]
    },
    {
      "cell_type": "markdown",
      "source": [
        "## RNN 資料前處理\n"
      ],
      "metadata": {
        "id": "UeH8brTwat0u"
      }
    },
    {
      "cell_type": "code",
      "source": [
        "import pandas as pd\n",
        "import numpy as np\n",
        "from sklearn.preprocessing import MinMaxScaler\n",
        "from keras.models import Sequential\n",
        "from keras.layers import LSTM, Dense\n",
        "\n",
        "df = pd.read_csv('/content/2330.csv')"
      ],
      "metadata": {
        "id": "PqtBhLSWasnE"
      },
      "execution_count": 7,
      "outputs": []
    },
    {
      "cell_type": "code",
      "source": [
        "dfprice = pd.DataFrame(df['Close'])\n",
        "dfprice"
      ],
      "metadata": {
        "colab": {
          "base_uri": "https://localhost:8080/",
          "height": 424
        },
        "id": "Zs8dZFPCbz93",
        "outputId": "b7f7ca59-6d82-473b-9e94-d70653c6f79d"
      },
      "execution_count": 8,
      "outputs": [
        {
          "output_type": "execute_result",
          "data": {
            "text/plain": [
              "      Close\n",
              "0      64.5\n",
              "1      64.1\n",
              "2      63.0\n",
              "3      63.0\n",
              "4      65.2\n",
              "...     ...\n",
              "3836  550.0\n",
              "3837  555.0\n",
              "3838  556.0\n",
              "3839  557.0\n",
              "3840  557.0\n",
              "\n",
              "[3841 rows x 1 columns]"
            ],
            "text/html": [
              "\n",
              "  <div id=\"df-cbe640f6-dea0-4a9c-aa6c-e38dabfa2d7f\" class=\"colab-df-container\">\n",
              "    <div>\n",
              "<style scoped>\n",
              "    .dataframe tbody tr th:only-of-type {\n",
              "        vertical-align: middle;\n",
              "    }\n",
              "\n",
              "    .dataframe tbody tr th {\n",
              "        vertical-align: top;\n",
              "    }\n",
              "\n",
              "    .dataframe thead th {\n",
              "        text-align: right;\n",
              "    }\n",
              "</style>\n",
              "<table border=\"1\" class=\"dataframe\">\n",
              "  <thead>\n",
              "    <tr style=\"text-align: right;\">\n",
              "      <th></th>\n",
              "      <th>Close</th>\n",
              "    </tr>\n",
              "  </thead>\n",
              "  <tbody>\n",
              "    <tr>\n",
              "      <th>0</th>\n",
              "      <td>64.5</td>\n",
              "    </tr>\n",
              "    <tr>\n",
              "      <th>1</th>\n",
              "      <td>64.1</td>\n",
              "    </tr>\n",
              "    <tr>\n",
              "      <th>2</th>\n",
              "      <td>63.0</td>\n",
              "    </tr>\n",
              "    <tr>\n",
              "      <th>3</th>\n",
              "      <td>63.0</td>\n",
              "    </tr>\n",
              "    <tr>\n",
              "      <th>4</th>\n",
              "      <td>65.2</td>\n",
              "    </tr>\n",
              "    <tr>\n",
              "      <th>...</th>\n",
              "      <td>...</td>\n",
              "    </tr>\n",
              "    <tr>\n",
              "      <th>3836</th>\n",
              "      <td>550.0</td>\n",
              "    </tr>\n",
              "    <tr>\n",
              "      <th>3837</th>\n",
              "      <td>555.0</td>\n",
              "    </tr>\n",
              "    <tr>\n",
              "      <th>3838</th>\n",
              "      <td>556.0</td>\n",
              "    </tr>\n",
              "    <tr>\n",
              "      <th>3839</th>\n",
              "      <td>557.0</td>\n",
              "    </tr>\n",
              "    <tr>\n",
              "      <th>3840</th>\n",
              "      <td>557.0</td>\n",
              "    </tr>\n",
              "  </tbody>\n",
              "</table>\n",
              "<p>3841 rows × 1 columns</p>\n",
              "</div>\n",
              "    <div class=\"colab-df-buttons\">\n",
              "\n",
              "  <div class=\"colab-df-container\">\n",
              "    <button class=\"colab-df-convert\" onclick=\"convertToInteractive('df-cbe640f6-dea0-4a9c-aa6c-e38dabfa2d7f')\"\n",
              "            title=\"Convert this dataframe to an interactive table.\"\n",
              "            style=\"display:none;\">\n",
              "\n",
              "  <svg xmlns=\"http://www.w3.org/2000/svg\" height=\"24px\" viewBox=\"0 -960 960 960\">\n",
              "    <path d=\"M120-120v-720h720v720H120Zm60-500h600v-160H180v160Zm220 220h160v-160H400v160Zm0 220h160v-160H400v160ZM180-400h160v-160H180v160Zm440 0h160v-160H620v160ZM180-180h160v-160H180v160Zm440 0h160v-160H620v160Z\"/>\n",
              "  </svg>\n",
              "    </button>\n",
              "\n",
              "  <style>\n",
              "    .colab-df-container {\n",
              "      display:flex;\n",
              "      gap: 12px;\n",
              "    }\n",
              "\n",
              "    .colab-df-convert {\n",
              "      background-color: #E8F0FE;\n",
              "      border: none;\n",
              "      border-radius: 50%;\n",
              "      cursor: pointer;\n",
              "      display: none;\n",
              "      fill: #1967D2;\n",
              "      height: 32px;\n",
              "      padding: 0 0 0 0;\n",
              "      width: 32px;\n",
              "    }\n",
              "\n",
              "    .colab-df-convert:hover {\n",
              "      background-color: #E2EBFA;\n",
              "      box-shadow: 0px 1px 2px rgba(60, 64, 67, 0.3), 0px 1px 3px 1px rgba(60, 64, 67, 0.15);\n",
              "      fill: #174EA6;\n",
              "    }\n",
              "\n",
              "    .colab-df-buttons div {\n",
              "      margin-bottom: 4px;\n",
              "    }\n",
              "\n",
              "    [theme=dark] .colab-df-convert {\n",
              "      background-color: #3B4455;\n",
              "      fill: #D2E3FC;\n",
              "    }\n",
              "\n",
              "    [theme=dark] .colab-df-convert:hover {\n",
              "      background-color: #434B5C;\n",
              "      box-shadow: 0px 1px 3px 1px rgba(0, 0, 0, 0.15);\n",
              "      filter: drop-shadow(0px 1px 2px rgba(0, 0, 0, 0.3));\n",
              "      fill: #FFFFFF;\n",
              "    }\n",
              "  </style>\n",
              "\n",
              "    <script>\n",
              "      const buttonEl =\n",
              "        document.querySelector('#df-cbe640f6-dea0-4a9c-aa6c-e38dabfa2d7f button.colab-df-convert');\n",
              "      buttonEl.style.display =\n",
              "        google.colab.kernel.accessAllowed ? 'block' : 'none';\n",
              "\n",
              "      async function convertToInteractive(key) {\n",
              "        const element = document.querySelector('#df-cbe640f6-dea0-4a9c-aa6c-e38dabfa2d7f');\n",
              "        const dataTable =\n",
              "          await google.colab.kernel.invokeFunction('convertToInteractive',\n",
              "                                                    [key], {});\n",
              "        if (!dataTable) return;\n",
              "\n",
              "        const docLinkHtml = 'Like what you see? Visit the ' +\n",
              "          '<a target=\"_blank\" href=https://colab.research.google.com/notebooks/data_table.ipynb>data table notebook</a>'\n",
              "          + ' to learn more about interactive tables.';\n",
              "        element.innerHTML = '';\n",
              "        dataTable['output_type'] = 'display_data';\n",
              "        await google.colab.output.renderOutput(dataTable, element);\n",
              "        const docLink = document.createElement('div');\n",
              "        docLink.innerHTML = docLinkHtml;\n",
              "        element.appendChild(docLink);\n",
              "      }\n",
              "    </script>\n",
              "  </div>\n",
              "\n",
              "\n",
              "<div id=\"df-223cec7b-3b2c-4378-b981-26b44925ad82\">\n",
              "  <button class=\"colab-df-quickchart\" onclick=\"quickchart('df-223cec7b-3b2c-4378-b981-26b44925ad82')\"\n",
              "            title=\"Suggest charts\"\n",
              "            style=\"display:none;\">\n",
              "\n",
              "<svg xmlns=\"http://www.w3.org/2000/svg\" height=\"24px\"viewBox=\"0 0 24 24\"\n",
              "     width=\"24px\">\n",
              "    <g>\n",
              "        <path d=\"M19 3H5c-1.1 0-2 .9-2 2v14c0 1.1.9 2 2 2h14c1.1 0 2-.9 2-2V5c0-1.1-.9-2-2-2zM9 17H7v-7h2v7zm4 0h-2V7h2v10zm4 0h-2v-4h2v4z\"/>\n",
              "    </g>\n",
              "</svg>\n",
              "  </button>\n",
              "\n",
              "<style>\n",
              "  .colab-df-quickchart {\n",
              "      --bg-color: #E8F0FE;\n",
              "      --fill-color: #1967D2;\n",
              "      --hover-bg-color: #E2EBFA;\n",
              "      --hover-fill-color: #174EA6;\n",
              "      --disabled-fill-color: #AAA;\n",
              "      --disabled-bg-color: #DDD;\n",
              "  }\n",
              "\n",
              "  [theme=dark] .colab-df-quickchart {\n",
              "      --bg-color: #3B4455;\n",
              "      --fill-color: #D2E3FC;\n",
              "      --hover-bg-color: #434B5C;\n",
              "      --hover-fill-color: #FFFFFF;\n",
              "      --disabled-bg-color: #3B4455;\n",
              "      --disabled-fill-color: #666;\n",
              "  }\n",
              "\n",
              "  .colab-df-quickchart {\n",
              "    background-color: var(--bg-color);\n",
              "    border: none;\n",
              "    border-radius: 50%;\n",
              "    cursor: pointer;\n",
              "    display: none;\n",
              "    fill: var(--fill-color);\n",
              "    height: 32px;\n",
              "    padding: 0;\n",
              "    width: 32px;\n",
              "  }\n",
              "\n",
              "  .colab-df-quickchart:hover {\n",
              "    background-color: var(--hover-bg-color);\n",
              "    box-shadow: 0 1px 2px rgba(60, 64, 67, 0.3), 0 1px 3px 1px rgba(60, 64, 67, 0.15);\n",
              "    fill: var(--button-hover-fill-color);\n",
              "  }\n",
              "\n",
              "  .colab-df-quickchart-complete:disabled,\n",
              "  .colab-df-quickchart-complete:disabled:hover {\n",
              "    background-color: var(--disabled-bg-color);\n",
              "    fill: var(--disabled-fill-color);\n",
              "    box-shadow: none;\n",
              "  }\n",
              "\n",
              "  .colab-df-spinner {\n",
              "    border: 2px solid var(--fill-color);\n",
              "    border-color: transparent;\n",
              "    border-bottom-color: var(--fill-color);\n",
              "    animation:\n",
              "      spin 1s steps(1) infinite;\n",
              "  }\n",
              "\n",
              "  @keyframes spin {\n",
              "    0% {\n",
              "      border-color: transparent;\n",
              "      border-bottom-color: var(--fill-color);\n",
              "      border-left-color: var(--fill-color);\n",
              "    }\n",
              "    20% {\n",
              "      border-color: transparent;\n",
              "      border-left-color: var(--fill-color);\n",
              "      border-top-color: var(--fill-color);\n",
              "    }\n",
              "    30% {\n",
              "      border-color: transparent;\n",
              "      border-left-color: var(--fill-color);\n",
              "      border-top-color: var(--fill-color);\n",
              "      border-right-color: var(--fill-color);\n",
              "    }\n",
              "    40% {\n",
              "      border-color: transparent;\n",
              "      border-right-color: var(--fill-color);\n",
              "      border-top-color: var(--fill-color);\n",
              "    }\n",
              "    60% {\n",
              "      border-color: transparent;\n",
              "      border-right-color: var(--fill-color);\n",
              "    }\n",
              "    80% {\n",
              "      border-color: transparent;\n",
              "      border-right-color: var(--fill-color);\n",
              "      border-bottom-color: var(--fill-color);\n",
              "    }\n",
              "    90% {\n",
              "      border-color: transparent;\n",
              "      border-bottom-color: var(--fill-color);\n",
              "    }\n",
              "  }\n",
              "</style>\n",
              "\n",
              "  <script>\n",
              "    async function quickchart(key) {\n",
              "      const quickchartButtonEl =\n",
              "        document.querySelector('#' + key + ' button');\n",
              "      quickchartButtonEl.disabled = true;  // To prevent multiple clicks.\n",
              "      quickchartButtonEl.classList.add('colab-df-spinner');\n",
              "      try {\n",
              "        const charts = await google.colab.kernel.invokeFunction(\n",
              "            'suggestCharts', [key], {});\n",
              "      } catch (error) {\n",
              "        console.error('Error during call to suggestCharts:', error);\n",
              "      }\n",
              "      quickchartButtonEl.classList.remove('colab-df-spinner');\n",
              "      quickchartButtonEl.classList.add('colab-df-quickchart-complete');\n",
              "    }\n",
              "    (() => {\n",
              "      let quickchartButtonEl =\n",
              "        document.querySelector('#df-223cec7b-3b2c-4378-b981-26b44925ad82 button');\n",
              "      quickchartButtonEl.style.display =\n",
              "        google.colab.kernel.accessAllowed ? 'block' : 'none';\n",
              "    })();\n",
              "  </script>\n",
              "</div>\n",
              "    </div>\n",
              "  </div>\n"
            ]
          },
          "metadata": {},
          "execution_count": 8
        }
      ]
    },
    {
      "cell_type": "code",
      "source": [
        "sequence_length = 10\n",
        "data = []\n",
        "for i in range(len(dfprice) - sequence_length):\n",
        "    data.append(dfprice[i: i + sequence_length + 1])\n",
        "print(data[0])"
      ],
      "metadata": {
        "colab": {
          "base_uri": "https://localhost:8080/"
        },
        "id": "HgmMrVh5cfVo",
        "outputId": "cae9abb0-cea0-4b51-e5c6-f4e7bc3843dc"
      },
      "execution_count": 9,
      "outputs": [
        {
          "output_type": "stream",
          "name": "stdout",
          "text": [
            "    Close\n",
            "0    64.5\n",
            "1    64.1\n",
            "2    63.0\n",
            "3    63.0\n",
            "4    65.2\n",
            "5    67.1\n",
            "6    66.8\n",
            "7    67.4\n",
            "8    67.3\n",
            "9    64.6\n",
            "10   63.9\n"
          ]
        }
      ]
    },
    {
      "cell_type": "code",
      "source": [
        "sequence_length = 10\n",
        "scaler = MinMaxScaler()\n",
        "dfprice = scaler.fit_transform(dfprice)\n",
        "data = []\n",
        "for i in range(len(dfprice) - sequence_length):\n",
        "    data.append(dfprice[i: i + sequence_length + 1])"
      ],
      "metadata": {
        "id": "aBiEEOsPcivW"
      },
      "execution_count": 10,
      "outputs": []
    },
    {
      "cell_type": "code",
      "source": [
        "reshaped_data = np.array(data)\n",
        "x = reshaped_data[:, :-1]\n",
        "y = reshaped_data[:, -1]"
      ],
      "metadata": {
        "id": "N6QaW17uckZC"
      },
      "execution_count": 11,
      "outputs": []
    },
    {
      "cell_type": "code",
      "source": [
        "split_boundary = int(reshaped_data.shape[0] * 0.8)\n",
        "train_x = x[: split_boundary]\n",
        "test_x = x[split_boundary:]\n",
        "train_y = y[: split_boundary]\n",
        "test_y = y[split_boundary:]\n",
        "print('訓練資料數量：{}'.format(len(train_x)))\n",
        "print('測試資料數量：{}'.format(len(test_x)))"
      ],
      "metadata": {
        "colab": {
          "base_uri": "https://localhost:8080/"
        },
        "id": "IS6gVHb6cl0Q",
        "outputId": "75e20321-292e-4e6d-8b15-8a42b5a6094a"
      },
      "execution_count": 12,
      "outputs": [
        {
          "output_type": "stream",
          "name": "stdout",
          "text": [
            "訓練資料數量：3064\n",
            "測試資料數量：767\n"
          ]
        }
      ]
    },
    {
      "cell_type": "markdown",
      "source": [
        "## RNN 建立與訓練"
      ],
      "metadata": {
        "id": "D8V_Ol-0cwmc"
      }
    },
    {
      "cell_type": "code",
      "source": [
        "model = Sequential()\n",
        "model.add(LSTM(input_shape=(10,1), units=256, unroll=False))"
      ],
      "metadata": {
        "id": "45OEsi5Rc2ka"
      },
      "execution_count": 13,
      "outputs": []
    },
    {
      "cell_type": "code",
      "source": [
        "model.add(Dense(units=1))"
      ],
      "metadata": {
        "id": "2Qq5lqJ6c5lU"
      },
      "execution_count": 14,
      "outputs": []
    },
    {
      "cell_type": "code",
      "source": [
        "model.summary()"
      ],
      "metadata": {
        "colab": {
          "base_uri": "https://localhost:8080/"
        },
        "id": "5ohC4WmYc5n5",
        "outputId": "43bbe75a-79f8-4034-da2d-c172666bf8e8"
      },
      "execution_count": 15,
      "outputs": [
        {
          "output_type": "stream",
          "name": "stdout",
          "text": [
            "Model: \"sequential\"\n",
            "_________________________________________________________________\n",
            " Layer (type)                Output Shape              Param #   \n",
            "=================================================================\n",
            " lstm (LSTM)                 (None, 256)               264192    \n",
            "                                                                 \n",
            " dense (Dense)               (None, 1)                 257       \n",
            "                                                                 \n",
            "=================================================================\n",
            "Total params: 264449 (1.01 MB)\n",
            "Trainable params: 264449 (1.01 MB)\n",
            "Non-trainable params: 0 (0.00 Byte)\n",
            "_________________________________________________________________\n"
          ]
        }
      ]
    },
    {
      "cell_type": "code",
      "source": [
        "model.compile(loss=\"mse\", optimizer=\"adam\",\n",
        "              metrics=['accuracy'])\n",
        "model.fit(train_x, train_y, batch_size=100,\n",
        "          epochs=100, validation_split=0.2,\n",
        "          verbose=2)\n",
        "model.save('/content/stock_model.h5')"
      ],
      "metadata": {
        "colab": {
          "base_uri": "https://localhost:8080/"
        },
        "id": "Kgrqxewxc5qI",
        "outputId": "d0f3ef90-3bc1-4e2a-8b22-6bb5ffa2bb53"
      },
      "execution_count": 17,
      "outputs": [
        {
          "output_type": "stream",
          "name": "stdout",
          "text": [
            "Epoch 1/100\n",
            "25/25 - 2s - loss: 4.7159e-05 - accuracy: 4.0800e-04 - val_loss: 1.1089e-04 - val_accuracy: 0.0000e+00 - 2s/epoch - 93ms/step\n",
            "Epoch 2/100\n",
            "25/25 - 0s - loss: 1.3413e-05 - accuracy: 4.0800e-04 - val_loss: 1.0203e-04 - val_accuracy: 0.0000e+00 - 155ms/epoch - 6ms/step\n",
            "Epoch 3/100\n",
            "25/25 - 0s - loss: 1.2640e-05 - accuracy: 4.0800e-04 - val_loss: 1.1059e-04 - val_accuracy: 0.0000e+00 - 145ms/epoch - 6ms/step\n",
            "Epoch 4/100\n",
            "25/25 - 0s - loss: 1.3372e-05 - accuracy: 4.0800e-04 - val_loss: 1.4346e-04 - val_accuracy: 0.0000e+00 - 146ms/epoch - 6ms/step\n",
            "Epoch 5/100\n",
            "25/25 - 0s - loss: 1.4042e-05 - accuracy: 4.0800e-04 - val_loss: 9.8706e-05 - val_accuracy: 0.0000e+00 - 144ms/epoch - 6ms/step\n",
            "Epoch 6/100\n",
            "25/25 - 0s - loss: 1.3746e-05 - accuracy: 4.0800e-04 - val_loss: 1.0507e-04 - val_accuracy: 0.0000e+00 - 139ms/epoch - 6ms/step\n",
            "Epoch 7/100\n",
            "25/25 - 0s - loss: 1.6337e-05 - accuracy: 4.0800e-04 - val_loss: 1.0685e-04 - val_accuracy: 0.0000e+00 - 136ms/epoch - 5ms/step\n",
            "Epoch 8/100\n",
            "25/25 - 0s - loss: 1.8340e-05 - accuracy: 4.0800e-04 - val_loss: 9.6388e-05 - val_accuracy: 0.0000e+00 - 186ms/epoch - 7ms/step\n",
            "Epoch 9/100\n",
            "25/25 - 0s - loss: 1.4260e-05 - accuracy: 4.0800e-04 - val_loss: 9.8109e-05 - val_accuracy: 0.0000e+00 - 146ms/epoch - 6ms/step\n",
            "Epoch 10/100\n",
            "25/25 - 0s - loss: 1.5998e-05 - accuracy: 4.0800e-04 - val_loss: 1.1637e-04 - val_accuracy: 0.0000e+00 - 139ms/epoch - 6ms/step\n",
            "Epoch 11/100\n",
            "25/25 - 0s - loss: 1.4373e-05 - accuracy: 4.0800e-04 - val_loss: 1.0736e-04 - val_accuracy: 0.0000e+00 - 137ms/epoch - 5ms/step\n",
            "Epoch 12/100\n",
            "25/25 - 0s - loss: 1.2340e-05 - accuracy: 4.0800e-04 - val_loss: 9.2254e-05 - val_accuracy: 0.0000e+00 - 140ms/epoch - 6ms/step\n",
            "Epoch 13/100\n",
            "25/25 - 0s - loss: 1.1970e-05 - accuracy: 4.0800e-04 - val_loss: 9.2073e-05 - val_accuracy: 0.0000e+00 - 145ms/epoch - 6ms/step\n",
            "Epoch 14/100\n",
            "25/25 - 0s - loss: 1.2806e-05 - accuracy: 4.0800e-04 - val_loss: 9.3883e-05 - val_accuracy: 0.0000e+00 - 182ms/epoch - 7ms/step\n",
            "Epoch 15/100\n",
            "25/25 - 0s - loss: 1.4622e-05 - accuracy: 4.0800e-04 - val_loss: 1.0640e-04 - val_accuracy: 0.0000e+00 - 157ms/epoch - 6ms/step\n",
            "Epoch 16/100\n",
            "25/25 - 0s - loss: 1.2690e-05 - accuracy: 4.0800e-04 - val_loss: 8.9418e-05 - val_accuracy: 0.0000e+00 - 134ms/epoch - 5ms/step\n",
            "Epoch 17/100\n",
            "25/25 - 0s - loss: 1.2652e-05 - accuracy: 4.0800e-04 - val_loss: 9.5811e-05 - val_accuracy: 0.0000e+00 - 141ms/epoch - 6ms/step\n",
            "Epoch 18/100\n",
            "25/25 - 0s - loss: 1.2035e-05 - accuracy: 4.0800e-04 - val_loss: 8.6224e-05 - val_accuracy: 0.0000e+00 - 140ms/epoch - 6ms/step\n",
            "Epoch 19/100\n",
            "25/25 - 0s - loss: 1.1662e-05 - accuracy: 4.0800e-04 - val_loss: 8.9227e-05 - val_accuracy: 0.0000e+00 - 138ms/epoch - 6ms/step\n",
            "Epoch 20/100\n",
            "25/25 - 0s - loss: 1.1440e-05 - accuracy: 4.0800e-04 - val_loss: 9.7748e-05 - val_accuracy: 0.0000e+00 - 141ms/epoch - 6ms/step\n",
            "Epoch 21/100\n",
            "25/25 - 0s - loss: 1.1172e-05 - accuracy: 4.0800e-04 - val_loss: 9.4878e-05 - val_accuracy: 0.0000e+00 - 142ms/epoch - 6ms/step\n",
            "Epoch 22/100\n",
            "25/25 - 0s - loss: 1.1874e-05 - accuracy: 4.0800e-04 - val_loss: 8.3203e-05 - val_accuracy: 0.0000e+00 - 148ms/epoch - 6ms/step\n",
            "Epoch 23/100\n",
            "25/25 - 0s - loss: 1.1380e-05 - accuracy: 4.0800e-04 - val_loss: 8.0294e-05 - val_accuracy: 0.0000e+00 - 136ms/epoch - 5ms/step\n",
            "Epoch 24/100\n",
            "25/25 - 0s - loss: 1.1392e-05 - accuracy: 4.0800e-04 - val_loss: 9.2454e-05 - val_accuracy: 0.0000e+00 - 138ms/epoch - 6ms/step\n",
            "Epoch 25/100\n",
            "25/25 - 0s - loss: 1.2367e-05 - accuracy: 4.0800e-04 - val_loss: 7.9368e-05 - val_accuracy: 0.0000e+00 - 136ms/epoch - 5ms/step\n",
            "Epoch 26/100\n",
            "25/25 - 0s - loss: 1.0488e-05 - accuracy: 4.0800e-04 - val_loss: 8.1401e-05 - val_accuracy: 0.0000e+00 - 140ms/epoch - 6ms/step\n",
            "Epoch 27/100\n",
            "25/25 - 0s - loss: 1.0992e-05 - accuracy: 4.0800e-04 - val_loss: 8.8852e-05 - val_accuracy: 0.0000e+00 - 144ms/epoch - 6ms/step\n",
            "Epoch 28/100\n",
            "25/25 - 0s - loss: 1.8544e-05 - accuracy: 4.0800e-04 - val_loss: 1.2556e-04 - val_accuracy: 0.0000e+00 - 139ms/epoch - 6ms/step\n",
            "Epoch 29/100\n",
            "25/25 - 0s - loss: 1.2511e-05 - accuracy: 4.0800e-04 - val_loss: 7.6498e-05 - val_accuracy: 0.0000e+00 - 147ms/epoch - 6ms/step\n",
            "Epoch 30/100\n",
            "25/25 - 0s - loss: 1.0914e-05 - accuracy: 4.0800e-04 - val_loss: 8.4170e-05 - val_accuracy: 0.0000e+00 - 138ms/epoch - 6ms/step\n",
            "Epoch 31/100\n",
            "25/25 - 0s - loss: 1.3007e-05 - accuracy: 4.0800e-04 - val_loss: 7.6162e-05 - val_accuracy: 0.0000e+00 - 134ms/epoch - 5ms/step\n",
            "Epoch 32/100\n",
            "25/25 - 0s - loss: 9.5345e-06 - accuracy: 4.0800e-04 - val_loss: 8.5807e-05 - val_accuracy: 0.0000e+00 - 142ms/epoch - 6ms/step\n",
            "Epoch 33/100\n",
            "25/25 - 0s - loss: 9.5438e-06 - accuracy: 4.0800e-04 - val_loss: 7.3954e-05 - val_accuracy: 0.0000e+00 - 139ms/epoch - 6ms/step\n",
            "Epoch 34/100\n",
            "25/25 - 0s - loss: 9.9249e-06 - accuracy: 4.0800e-04 - val_loss: 7.3430e-05 - val_accuracy: 0.0000e+00 - 160ms/epoch - 6ms/step\n",
            "Epoch 35/100\n",
            "25/25 - 0s - loss: 1.1722e-05 - accuracy: 4.0800e-04 - val_loss: 7.3360e-05 - val_accuracy: 0.0000e+00 - 136ms/epoch - 5ms/step\n",
            "Epoch 36/100\n",
            "25/25 - 0s - loss: 1.1247e-05 - accuracy: 4.0800e-04 - val_loss: 8.8261e-05 - val_accuracy: 0.0000e+00 - 145ms/epoch - 6ms/step\n",
            "Epoch 37/100\n",
            "25/25 - 0s - loss: 9.3980e-06 - accuracy: 4.0800e-04 - val_loss: 7.2062e-05 - val_accuracy: 0.0000e+00 - 141ms/epoch - 6ms/step\n",
            "Epoch 38/100\n",
            "25/25 - 0s - loss: 9.1319e-06 - accuracy: 4.0800e-04 - val_loss: 7.2076e-05 - val_accuracy: 0.0000e+00 - 146ms/epoch - 6ms/step\n",
            "Epoch 39/100\n",
            "25/25 - 0s - loss: 9.2585e-06 - accuracy: 4.0800e-04 - val_loss: 7.1604e-05 - val_accuracy: 0.0000e+00 - 135ms/epoch - 5ms/step\n",
            "Epoch 40/100\n",
            "25/25 - 0s - loss: 9.7926e-06 - accuracy: 4.0800e-04 - val_loss: 7.0546e-05 - val_accuracy: 0.0000e+00 - 145ms/epoch - 6ms/step\n",
            "Epoch 41/100\n",
            "25/25 - 0s - loss: 1.0147e-05 - accuracy: 4.0800e-04 - val_loss: 7.1786e-05 - val_accuracy: 0.0000e+00 - 187ms/epoch - 7ms/step\n",
            "Epoch 42/100\n",
            "25/25 - 0s - loss: 9.8421e-06 - accuracy: 4.0800e-04 - val_loss: 7.9979e-05 - val_accuracy: 0.0000e+00 - 135ms/epoch - 5ms/step\n",
            "Epoch 43/100\n",
            "25/25 - 0s - loss: 9.1103e-06 - accuracy: 4.0800e-04 - val_loss: 7.1428e-05 - val_accuracy: 0.0000e+00 - 145ms/epoch - 6ms/step\n",
            "Epoch 44/100\n",
            "25/25 - 0s - loss: 9.0170e-06 - accuracy: 4.0800e-04 - val_loss: 7.3418e-05 - val_accuracy: 0.0000e+00 - 139ms/epoch - 6ms/step\n",
            "Epoch 45/100\n",
            "25/25 - 0s - loss: 8.6684e-06 - accuracy: 4.0800e-04 - val_loss: 7.1031e-05 - val_accuracy: 0.0000e+00 - 136ms/epoch - 5ms/step\n",
            "Epoch 46/100\n",
            "25/25 - 0s - loss: 9.3013e-06 - accuracy: 4.0800e-04 - val_loss: 8.0142e-05 - val_accuracy: 0.0000e+00 - 144ms/epoch - 6ms/step\n",
            "Epoch 47/100\n",
            "25/25 - 0s - loss: 9.9912e-06 - accuracy: 4.0800e-04 - val_loss: 7.3166e-05 - val_accuracy: 0.0000e+00 - 144ms/epoch - 6ms/step\n",
            "Epoch 48/100\n",
            "25/25 - 0s - loss: 8.8296e-06 - accuracy: 4.0800e-04 - val_loss: 6.6804e-05 - val_accuracy: 0.0000e+00 - 146ms/epoch - 6ms/step\n",
            "Epoch 49/100\n",
            "25/25 - 0s - loss: 8.4077e-06 - accuracy: 4.0800e-04 - val_loss: 7.2404e-05 - val_accuracy: 0.0000e+00 - 187ms/epoch - 7ms/step\n",
            "Epoch 50/100\n",
            "25/25 - 0s - loss: 8.6228e-06 - accuracy: 4.0800e-04 - val_loss: 6.7351e-05 - val_accuracy: 0.0000e+00 - 234ms/epoch - 9ms/step\n",
            "Epoch 51/100\n",
            "25/25 - 0s - loss: 9.0247e-06 - accuracy: 4.0800e-04 - val_loss: 6.9841e-05 - val_accuracy: 0.0000e+00 - 183ms/epoch - 7ms/step\n",
            "Epoch 52/100\n",
            "25/25 - 0s - loss: 8.3217e-06 - accuracy: 4.0800e-04 - val_loss: 6.6170e-05 - val_accuracy: 0.0000e+00 - 186ms/epoch - 7ms/step\n",
            "Epoch 53/100\n",
            "25/25 - 0s - loss: 9.5811e-06 - accuracy: 4.0800e-04 - val_loss: 6.6571e-05 - val_accuracy: 0.0000e+00 - 220ms/epoch - 9ms/step\n",
            "Epoch 54/100\n",
            "25/25 - 0s - loss: 9.6663e-06 - accuracy: 4.0800e-04 - val_loss: 6.9648e-05 - val_accuracy: 0.0000e+00 - 227ms/epoch - 9ms/step\n",
            "Epoch 55/100\n",
            "25/25 - 0s - loss: 8.2632e-06 - accuracy: 4.0800e-04 - val_loss: 7.0943e-05 - val_accuracy: 0.0000e+00 - 183ms/epoch - 7ms/step\n",
            "Epoch 56/100\n",
            "25/25 - 0s - loss: 8.7949e-06 - accuracy: 4.0800e-04 - val_loss: 6.7174e-05 - val_accuracy: 0.0000e+00 - 179ms/epoch - 7ms/step\n",
            "Epoch 57/100\n",
            "25/25 - 0s - loss: 8.6565e-06 - accuracy: 4.0800e-04 - val_loss: 7.9509e-05 - val_accuracy: 0.0000e+00 - 229ms/epoch - 9ms/step\n",
            "Epoch 58/100\n",
            "25/25 - 0s - loss: 9.4537e-06 - accuracy: 4.0800e-04 - val_loss: 7.6043e-05 - val_accuracy: 0.0000e+00 - 191ms/epoch - 8ms/step\n",
            "Epoch 59/100\n",
            "25/25 - 0s - loss: 8.6310e-06 - accuracy: 4.0800e-04 - val_loss: 8.5751e-05 - val_accuracy: 0.0000e+00 - 221ms/epoch - 9ms/step\n",
            "Epoch 60/100\n",
            "25/25 - 0s - loss: 9.5774e-06 - accuracy: 4.0800e-04 - val_loss: 6.7848e-05 - val_accuracy: 0.0000e+00 - 205ms/epoch - 8ms/step\n",
            "Epoch 61/100\n",
            "25/25 - 0s - loss: 9.3240e-06 - accuracy: 4.0800e-04 - val_loss: 6.4128e-05 - val_accuracy: 0.0000e+00 - 216ms/epoch - 9ms/step\n",
            "Epoch 62/100\n",
            "25/25 - 0s - loss: 8.2997e-06 - accuracy: 4.0800e-04 - val_loss: 6.3610e-05 - val_accuracy: 0.0000e+00 - 203ms/epoch - 8ms/step\n",
            "Epoch 63/100\n",
            "25/25 - 0s - loss: 8.0801e-06 - accuracy: 4.0800e-04 - val_loss: 6.2671e-05 - val_accuracy: 0.0000e+00 - 188ms/epoch - 8ms/step\n",
            "Epoch 64/100\n",
            "25/25 - 0s - loss: 8.2107e-06 - accuracy: 4.0800e-04 - val_loss: 6.2381e-05 - val_accuracy: 0.0000e+00 - 224ms/epoch - 9ms/step\n",
            "Epoch 65/100\n",
            "25/25 - 0s - loss: 8.5523e-06 - accuracy: 4.0800e-04 - val_loss: 6.2413e-05 - val_accuracy: 0.0000e+00 - 221ms/epoch - 9ms/step\n",
            "Epoch 66/100\n",
            "25/25 - 0s - loss: 8.3352e-06 - accuracy: 4.0800e-04 - val_loss: 7.6469e-05 - val_accuracy: 0.0000e+00 - 149ms/epoch - 6ms/step\n",
            "Epoch 67/100\n",
            "25/25 - 0s - loss: 8.5038e-06 - accuracy: 4.0800e-04 - val_loss: 6.3375e-05 - val_accuracy: 0.0000e+00 - 143ms/epoch - 6ms/step\n",
            "Epoch 68/100\n",
            "25/25 - 0s - loss: 9.4603e-06 - accuracy: 4.0800e-04 - val_loss: 9.5568e-05 - val_accuracy: 0.0000e+00 - 150ms/epoch - 6ms/step\n",
            "Epoch 69/100\n",
            "25/25 - 0s - loss: 1.0892e-05 - accuracy: 4.0800e-04 - val_loss: 6.1442e-05 - val_accuracy: 0.0000e+00 - 187ms/epoch - 7ms/step\n",
            "Epoch 70/100\n",
            "25/25 - 0s - loss: 9.1856e-06 - accuracy: 4.0800e-04 - val_loss: 6.1074e-05 - val_accuracy: 0.0000e+00 - 146ms/epoch - 6ms/step\n",
            "Epoch 71/100\n",
            "25/25 - 0s - loss: 7.7827e-06 - accuracy: 4.0800e-04 - val_loss: 6.5407e-05 - val_accuracy: 0.0000e+00 - 144ms/epoch - 6ms/step\n",
            "Epoch 72/100\n",
            "25/25 - 0s - loss: 7.8922e-06 - accuracy: 4.0800e-04 - val_loss: 6.1724e-05 - val_accuracy: 0.0000e+00 - 142ms/epoch - 6ms/step\n",
            "Epoch 73/100\n",
            "25/25 - 0s - loss: 8.1345e-06 - accuracy: 4.0800e-04 - val_loss: 7.8720e-05 - val_accuracy: 0.0000e+00 - 143ms/epoch - 6ms/step\n",
            "Epoch 74/100\n",
            "25/25 - 0s - loss: 8.7134e-06 - accuracy: 4.0800e-04 - val_loss: 6.1205e-05 - val_accuracy: 0.0000e+00 - 140ms/epoch - 6ms/step\n",
            "Epoch 75/100\n",
            "25/25 - 0s - loss: 8.2969e-06 - accuracy: 4.0800e-04 - val_loss: 6.0881e-05 - val_accuracy: 0.0000e+00 - 139ms/epoch - 6ms/step\n",
            "Epoch 76/100\n",
            "25/25 - 0s - loss: 8.1432e-06 - accuracy: 4.0800e-04 - val_loss: 6.0353e-05 - val_accuracy: 0.0000e+00 - 141ms/epoch - 6ms/step\n",
            "Epoch 77/100\n",
            "25/25 - 0s - loss: 7.8373e-06 - accuracy: 4.0800e-04 - val_loss: 6.1289e-05 - val_accuracy: 0.0000e+00 - 141ms/epoch - 6ms/step\n",
            "Epoch 78/100\n",
            "25/25 - 0s - loss: 7.9728e-06 - accuracy: 4.0800e-04 - val_loss: 6.5910e-05 - val_accuracy: 0.0000e+00 - 139ms/epoch - 6ms/step\n",
            "Epoch 79/100\n",
            "25/25 - 0s - loss: 7.7995e-06 - accuracy: 4.0800e-04 - val_loss: 6.5918e-05 - val_accuracy: 0.0000e+00 - 142ms/epoch - 6ms/step\n",
            "Epoch 80/100\n",
            "25/25 - 0s - loss: 8.3272e-06 - accuracy: 4.0800e-04 - val_loss: 6.1646e-05 - val_accuracy: 0.0000e+00 - 141ms/epoch - 6ms/step\n",
            "Epoch 81/100\n",
            "25/25 - 0s - loss: 8.0492e-06 - accuracy: 4.0800e-04 - val_loss: 8.0075e-05 - val_accuracy: 0.0000e+00 - 182ms/epoch - 7ms/step\n",
            "Epoch 82/100\n",
            "25/25 - 0s - loss: 9.1398e-06 - accuracy: 4.0800e-04 - val_loss: 6.1930e-05 - val_accuracy: 0.0000e+00 - 147ms/epoch - 6ms/step\n",
            "Epoch 83/100\n",
            "25/25 - 0s - loss: 8.8749e-06 - accuracy: 4.0800e-04 - val_loss: 5.9569e-05 - val_accuracy: 0.0000e+00 - 146ms/epoch - 6ms/step\n",
            "Epoch 84/100\n",
            "25/25 - 0s - loss: 8.4467e-06 - accuracy: 4.0800e-04 - val_loss: 6.1492e-05 - val_accuracy: 0.0000e+00 - 142ms/epoch - 6ms/step\n",
            "Epoch 85/100\n",
            "25/25 - 0s - loss: 9.7457e-06 - accuracy: 4.0800e-04 - val_loss: 6.0315e-05 - val_accuracy: 0.0000e+00 - 142ms/epoch - 6ms/step\n",
            "Epoch 86/100\n",
            "25/25 - 0s - loss: 8.6120e-06 - accuracy: 4.0800e-04 - val_loss: 8.3332e-05 - val_accuracy: 0.0000e+00 - 147ms/epoch - 6ms/step\n",
            "Epoch 87/100\n",
            "25/25 - 0s - loss: 9.3294e-06 - accuracy: 4.0800e-04 - val_loss: 6.4195e-05 - val_accuracy: 0.0000e+00 - 138ms/epoch - 6ms/step\n",
            "Epoch 88/100\n",
            "25/25 - 0s - loss: 7.6694e-06 - accuracy: 4.0800e-04 - val_loss: 6.2565e-05 - val_accuracy: 0.0000e+00 - 142ms/epoch - 6ms/step\n",
            "Epoch 89/100\n",
            "25/25 - 0s - loss: 7.8908e-06 - accuracy: 4.0800e-04 - val_loss: 6.0575e-05 - val_accuracy: 0.0000e+00 - 144ms/epoch - 6ms/step\n",
            "Epoch 90/100\n",
            "25/25 - 0s - loss: 8.3313e-06 - accuracy: 4.0800e-04 - val_loss: 5.9256e-05 - val_accuracy: 0.0000e+00 - 145ms/epoch - 6ms/step\n",
            "Epoch 91/100\n",
            "25/25 - 0s - loss: 7.9339e-06 - accuracy: 4.0800e-04 - val_loss: 6.0020e-05 - val_accuracy: 0.0000e+00 - 144ms/epoch - 6ms/step\n",
            "Epoch 92/100\n",
            "25/25 - 0s - loss: 8.6802e-06 - accuracy: 4.0800e-04 - val_loss: 5.9728e-05 - val_accuracy: 0.0000e+00 - 142ms/epoch - 6ms/step\n",
            "Epoch 93/100\n",
            "25/25 - 0s - loss: 8.5176e-06 - accuracy: 4.0800e-04 - val_loss: 6.0667e-05 - val_accuracy: 0.0000e+00 - 143ms/epoch - 6ms/step\n",
            "Epoch 94/100\n",
            "25/25 - 0s - loss: 8.8520e-06 - accuracy: 4.0800e-04 - val_loss: 9.8821e-05 - val_accuracy: 0.0000e+00 - 134ms/epoch - 5ms/step\n",
            "Epoch 95/100\n",
            "25/25 - 0s - loss: 8.4411e-06 - accuracy: 4.0800e-04 - val_loss: 6.1433e-05 - val_accuracy: 0.0000e+00 - 139ms/epoch - 6ms/step\n",
            "Epoch 96/100\n",
            "25/25 - 0s - loss: 8.0032e-06 - accuracy: 4.0800e-04 - val_loss: 5.9367e-05 - val_accuracy: 0.0000e+00 - 140ms/epoch - 6ms/step\n",
            "Epoch 97/100\n",
            "25/25 - 0s - loss: 8.0323e-06 - accuracy: 4.0800e-04 - val_loss: 5.9018e-05 - val_accuracy: 0.0000e+00 - 147ms/epoch - 6ms/step\n",
            "Epoch 98/100\n",
            "25/25 - 0s - loss: 9.9476e-06 - accuracy: 4.0800e-04 - val_loss: 6.4029e-05 - val_accuracy: 0.0000e+00 - 140ms/epoch - 6ms/step\n",
            "Epoch 99/100\n",
            "25/25 - 0s - loss: 9.5254e-06 - accuracy: 4.0800e-04 - val_loss: 5.9712e-05 - val_accuracy: 0.0000e+00 - 138ms/epoch - 6ms/step\n",
            "Epoch 100/100\n",
            "25/25 - 0s - loss: 8.1283e-06 - accuracy: 4.0800e-04 - val_loss: 5.9862e-05 - val_accuracy: 0.0000e+00 - 131ms/epoch - 5ms/step\n"
          ]
        },
        {
          "output_type": "stream",
          "name": "stderr",
          "text": [
            "/usr/local/lib/python3.10/dist-packages/keras/src/engine/training.py:3079: UserWarning: You are saving your model as an HDF5 file via `model.save()`. This file format is considered legacy. We recommend using instead the native Keras format, e.g. `model.save('my_model.keras')`.\n",
            "  saving_api.save_model(\n"
          ]
        }
      ]
    },
    {
      "cell_type": "markdown",
      "source": [
        "## 預測股票收盤價"
      ],
      "metadata": {
        "id": "If03K713jl5D"
      }
    },
    {
      "cell_type": "code",
      "source": [
        "import pandas as pd\n",
        "import numpy as np\n",
        "import matplotlib.pyplot as plt\n",
        "from sklearn.preprocessing import MinMaxScaler\n",
        "from keras.models import load_model\n",
        "\n",
        "df = pd.read_csv('/content/2330.csv', encoding='big5')\n",
        "dfprice = pd.DataFrame(df['Close'])\n",
        "sequence_length = 10\n",
        "scaler = MinMaxScaler()\n",
        "dfprice = scaler.fit_transform(dfprice)\n",
        "data = []\n",
        "for i in range(len(dfprice) - sequence_length):\n",
        "    data.append(dfprice[i: i + sequence_length + 1])\n",
        "reshaped_data = np.array(data)\n",
        "x = reshaped_data[:, :-1]\n",
        "y = reshaped_data[:, -1]\n",
        "split_boundary = int(reshaped_data.shape[0] * 0.8)\n",
        "train_x = x[: split_boundary]\n",
        "test_x = x[split_boundary:]\n",
        "train_y = y[: split_boundary]\n",
        "test_y = y[split_boundary:]\n",
        "\n",
        "model = load_model('stock_model.h5')\n",
        "predict = model.predict(test_x)\n",
        "predict = scaler.inverse_transform(predict)\n",
        "test_y = scaler.inverse_transform(test_y)\n",
        "\n",
        "plt.figure(figsize=(12,6))\n",
        "plt.plot(predict, 'b-')\n",
        "plt.plot(test_y, 'r-')\n",
        "plt.legend(['predict', 'realdata'])\n",
        "plt.show()"
      ],
      "metadata": {
        "colab": {
          "base_uri": "https://localhost:8080/",
          "height": 476
        },
        "id": "ZubD_QkOc5r4",
        "outputId": "87b930f9-a3d0-476d-de18-f5e562c32149"
      },
      "execution_count": 21,
      "outputs": [
        {
          "output_type": "stream",
          "name": "stdout",
          "text": [
            "24/24 [==============================] - 1s 2ms/step\n"
          ]
        },
        {
          "output_type": "display_data",
          "data": {
            "text/plain": [
              "<Figure size 1200x600 with 1 Axes>"
            ],
            "image/png": "[encoded data removed]"
          },
          "metadata": {}
        }
      ]
    }
  ]
}