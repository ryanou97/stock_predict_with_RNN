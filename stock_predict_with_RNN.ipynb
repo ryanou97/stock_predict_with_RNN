{
  "nbformat": 4,
  "nbformat_minor": 0,
  "metadata": {
    "colab": {
      "provenance": [],
      "gpuType": "T4",
      "toc_visible": true,
      "authorship_tag": "ABX9TyOq0v8dEM0bWygOVGy4cG/j",
      "include_colab_link": true
    },
    "kernelspec": {
      "name": "python3",
      "display_name": "Python 3"
    },
    "language_info": {
      "name": "python"
    },
    "accelerator": "GPU"
  },
  "cells": [
    {
      "cell_type": "markdown",
      "metadata": {
        "id": "view-in-github",
        "colab_type": "text"
      },
      "source": [
        "<a href=\"https://colab.research.google.com/github/ryanou97/stock_predict_with_RNN/blob/main/stock_predict_with_RNN.ipynb\" target=\"_parent\"><img src=\"https://colab.research.google.com/assets/colab-badge.svg\" alt=\"Open In Colab\"/></a>"
      ]
    },
    {
      "cell_type": "markdown",
      "source": [
        "## twstock 台股資料\n",
        "若無資料來源，可用台灣證券交易所的twstock套件抓取。不過沒辦法抓取整年，且每個IP有流量限制。\n"
      ],
      "metadata": {
        "id": "_O2OfJA-aHVl"
      }
    },
    {
      "cell_type": "code",
      "source": [
        "!pip install twstock\n",
        "\n",
        "import twstock"
      ],
      "metadata": {
        "id": "iDlU2vl3UYPd",
        "colab": {
          "base_uri": "https://localhost:8080/"
        },
        "outputId": "675801e6-c5f2-4c5e-a633-26469004ea6d"
      },
      "execution_count": 60,
      "outputs": [
        {
          "output_type": "stream",
          "name": "stdout",
          "text": [
            "Requirement already satisfied: twstock in /usr/local/lib/python3.10/dist-packages (1.3.1)\n",
            "Requirement already satisfied: requests in /usr/local/lib/python3.10/dist-packages (from twstock) (2.31.0)\n",
            "Requirement already satisfied: charset-normalizer<4,>=2 in /usr/local/lib/python3.10/dist-packages (from requests->twstock) (3.3.2)\n",
            "Requirement already satisfied: idna<4,>=2.5 in /usr/local/lib/python3.10/dist-packages (from requests->twstock) (3.4)\n",
            "Requirement already satisfied: urllib3<3,>=1.21.1 in /usr/local/lib/python3.10/dist-packages (from requests->twstock) (2.0.7)\n",
            "Requirement already satisfied: certifi>=2017.4.17 in /usr/local/lib/python3.10/dist-packages (from requests->twstock) (2023.7.22)\n"
          ]
        }
      ]
    },
    {
      "cell_type": "code",
      "source": [
        "TSMC_stock = twstock.Stock('2330')\n",
        "\n",
        "# 前一日資料\n",
        "print(\"日期：\",TSMC_stock.date[-1])\n",
        "print(\"開盤價：\",TSMC_stock.open[-1])\n",
        "print(\"最高價：\",TSMC_stock.high[-1])\n",
        "print(\"最低價：\",TSMC_stock.low[-1])\n",
        "print(\"收盤價：\",TSMC_stock.price[-1])\n",
        "\n",
        "print(TSMC_stock.fetch(2023,1)) # 2023.1的資料"
      ],
      "metadata": {
        "id": "ORYjJRAsUcXg",
        "colab": {
          "base_uri": "https://localhost:8080/"
        },
        "outputId": "f5dcf7e8-7527-4bab-c922-33256ab78008"
      },
      "execution_count": 61,
      "outputs": [
        {
          "output_type": "stream",
          "name": "stdout",
          "text": [
            "日期： 2023-11-13 00:00:00\n",
            "開盤價： 579.0\n",
            "最高價： 580.0\n",
            "最低價： 571.0\n",
            "收盤價： 571.0\n",
            "[Data(date=datetime.datetime(2023, 1, 3, 0, 0), capacity=15311364, turnover=6871973708, open=446.0, high=453.5, low=443.0, close=453.0, change=4.5, transaction=22581), Data(date=datetime.datetime(2023, 1, 4, 0, 0), capacity=20626874, turnover=9310050329, open=449.5, high=455.0, low=448.5, close=449.5, change=-3.5, transaction=18233), Data(date=datetime.datetime(2023, 1, 5, 0, 0), capacity=23972099, turnover=10972616269, open=459.0, high=459.5, low=455.0, close=458.5, change=9.0, transaction=20752), Data(date=datetime.datetime(2023, 1, 6, 0, 0), capacity=21313593, turnover=9745142549, open=455.0, high=459.5, low=455.0, close=458.5, change=0.0, transaction=16635), Data(date=datetime.datetime(2023, 1, 9, 0, 0), capacity=49186355, turnover=23352375299, open=468.0, high=481.0, low=467.5, close=481.0, change=22.5, transaction=57305), Data(date=datetime.datetime(2023, 1, 10, 0, 0), capacity=34785370, turnover=16867391241, open=486.0, high=487.0, low=483.0, close=486.0, change=5.0, transaction=36975), Data(date=datetime.datetime(2023, 1, 11, 0, 0), capacity=21749124, turnover=10531314878, open=487.0, high=488.0, low=482.0, close=484.5, change=-1.5, transaction=25457), Data(date=datetime.datetime(2023, 1, 12, 0, 0), capacity=22416984, turnover=10901640739, open=487.5, high=488.0, low=484.0, close=486.5, change=2.0, transaction=25780), Data(date=datetime.datetime(2023, 1, 13, 0, 0), capacity=81848755, turnover=41113175651, open=507.0, high=509.0, low=499.0, close=500.0, change=13.5, transaction=93121), Data(date=datetime.datetime(2023, 1, 16, 0, 0), capacity=38781925, turnover=19573968332, open=506.0, high=508.0, low=503.0, close=505.0, change=5.0, transaction=48051), Data(date=datetime.datetime(2023, 1, 17, 0, 0), capacity=29443522, turnover=14784661794, open=504.0, high=504.0, low=499.5, close=503.0, change=-2.0, transaction=27930), Data(date=datetime.datetime(2023, 1, 30, 0, 0), capacity=148413161, turnover=80057158264, open=542.0, high=543.0, low=534.0, close=543.0, change=40.0, transaction=153125), Data(date=datetime.datetime(2023, 1, 31, 0, 0), capacity=79212272, turnover=41736937234, open=537.0, high=538.0, low=521.0, close=522.0, change=-21.0, transaction=74279)]\n"
          ]
        }
      ]
    },
    {
      "cell_type": "markdown",
      "source": [
        "## 資料前處理\n"
      ],
      "metadata": {
        "id": "UeH8brTwat0u"
      }
    },
    {
      "cell_type": "markdown",
      "source": [
        "### import必要套件、讀取csv"
      ],
      "metadata": {
        "id": "0pBWgubg9ej7"
      }
    },
    {
      "cell_type": "code",
      "source": [
        "import pandas as pd\n",
        "import numpy as np\n",
        "from sklearn.preprocessing import MinMaxScaler\n",
        "from keras.models import Sequential\n",
        "from keras.layers import LSTM, Dense\n",
        "\n",
        "# 資料為台積電2330 2008/4/10~2023/11/10，來源為康和證券\n",
        "df = pd.read_csv('/content/2330.csv')"
      ],
      "metadata": {
        "id": "PqtBhLSWasnE"
      },
      "execution_count": 62,
      "outputs": []
    },
    {
      "cell_type": "code",
      "source": [
        "df_close = pd.DataFrame(df['Close'])\n",
        "df_close"
      ],
      "metadata": {
        "colab": {
          "base_uri": "https://localhost:8080/",
          "height": 424
        },
        "id": "Zs8dZFPCbz93",
        "outputId": "bdf4fbb0-04d8-4cf7-9b1b-43c585382754"
      },
      "execution_count": 63,
      "outputs": [
        {
          "output_type": "execute_result",
          "data": {
            "text/plain": [
              "      Close\n",
              "0      64.5\n",
              "1      64.1\n",
              "2      63.0\n",
              "3      63.0\n",
              "4      65.2\n",
              "...     ...\n",
              "3836  550.0\n",
              "3837  555.0\n",
              "3838  556.0\n",
              "3839  557.0\n",
              "3840  557.0\n",
              "\n",
              "[3841 rows x 1 columns]"
            ],
            "text/html": [
              "\n",
              "  <div id=\"df-15e95fd3-5cd0-4b2e-b75b-e05a6b5925f0\" class=\"colab-df-container\">\n",
              "    <div>\n",
              "<style scoped>\n",
              "    .dataframe tbody tr th:only-of-type {\n",
              "        vertical-align: middle;\n",
              "    }\n",
              "\n",
              "    .dataframe tbody tr th {\n",
              "        vertical-align: top;\n",
              "    }\n",
              "\n",
              "    .dataframe thead th {\n",
              "        text-align: right;\n",
              "    }\n",
              "</style>\n",
              "<table border=\"1\" class=\"dataframe\">\n",
              "  <thead>\n",
              "    <tr style=\"text-align: right;\">\n",
              "      <th></th>\n",
              "      <th>Close</th>\n",
              "    </tr>\n",
              "  </thead>\n",
              "  <tbody>\n",
              "    <tr>\n",
              "      <th>0</th>\n",
              "      <td>64.5</td>\n",
              "    </tr>\n",
              "    <tr>\n",
              "      <th>1</th>\n",
              "      <td>64.1</td>\n",
              "    </tr>\n",
              "    <tr>\n",
              "      <th>2</th>\n",
              "      <td>63.0</td>\n",
              "    </tr>\n",
              "    <tr>\n",
              "      <th>3</th>\n",
              "      <td>63.0</td>\n",
              "    </tr>\n",
              "    <tr>\n",
              "      <th>4</th>\n",
              "      <td>65.2</td>\n",
              "    </tr>\n",
              "    <tr>\n",
              "      <th>...</th>\n",
              "      <td>...</td>\n",
              "    </tr>\n",
              "    <tr>\n",
              "      <th>3836</th>\n",
              "      <td>550.0</td>\n",
              "    </tr>\n",
              "    <tr>\n",
              "      <th>3837</th>\n",
              "      <td>555.0</td>\n",
              "    </tr>\n",
              "    <tr>\n",
              "      <th>3838</th>\n",
              "      <td>556.0</td>\n",
              "    </tr>\n",
              "    <tr>\n",
              "      <th>3839</th>\n",
              "      <td>557.0</td>\n",
              "    </tr>\n",
              "    <tr>\n",
              "      <th>3840</th>\n",
              "      <td>557.0</td>\n",
              "    </tr>\n",
              "  </tbody>\n",
              "</table>\n",
              "<p>3841 rows × 1 columns</p>\n",
              "</div>\n",
              "    <div class=\"colab-df-buttons\">\n",
              "\n",
              "  <div class=\"colab-df-container\">\n",
              "    <button class=\"colab-df-convert\" onclick=\"convertToInteractive('df-15e95fd3-5cd0-4b2e-b75b-e05a6b5925f0')\"\n",
              "            title=\"Convert this dataframe to an interactive table.\"\n",
              "            style=\"display:none;\">\n",
              "\n",
              "  <svg xmlns=\"http://www.w3.org/2000/svg\" height=\"24px\" viewBox=\"0 -960 960 960\">\n",
              "    <path d=\"M120-120v-720h720v720H120Zm60-500h600v-160H180v160Zm220 220h160v-160H400v160Zm0 220h160v-160H400v160ZM180-400h160v-160H180v160Zm440 0h160v-160H620v160ZM180-180h160v-160H180v160Zm440 0h160v-160H620v160Z\"/>\n",
              "  </svg>\n",
              "    </button>\n",
              "\n",
              "  <style>\n",
              "    .colab-df-container {\n",
              "      display:flex;\n",
              "      gap: 12px;\n",
              "    }\n",
              "\n",
              "    .colab-df-convert {\n",
              "      background-color: #E8F0FE;\n",
              "      border: none;\n",
              "      border-radius: 50%;\n",
              "      cursor: pointer;\n",
              "      display: none;\n",
              "      fill: #1967D2;\n",
              "      height: 32px;\n",
              "      padding: 0 0 0 0;\n",
              "      width: 32px;\n",
              "    }\n",
              "\n",
              "    .colab-df-convert:hover {\n",
              "      background-color: #E2EBFA;\n",
              "      box-shadow: 0px 1px 2px rgba(60, 64, 67, 0.3), 0px 1px 3px 1px rgba(60, 64, 67, 0.15);\n",
              "      fill: #174EA6;\n",
              "    }\n",
              "\n",
              "    .colab-df-buttons div {\n",
              "      margin-bottom: 4px;\n",
              "    }\n",
              "\n",
              "    [theme=dark] .colab-df-convert {\n",
              "      background-color: #3B4455;\n",
              "      fill: #D2E3FC;\n",
              "    }\n",
              "\n",
              "    [theme=dark] .colab-df-convert:hover {\n",
              "      background-color: #434B5C;\n",
              "      box-shadow: 0px 1px 3px 1px rgba(0, 0, 0, 0.15);\n",
              "      filter: drop-shadow(0px 1px 2px rgba(0, 0, 0, 0.3));\n",
              "      fill: #FFFFFF;\n",
              "    }\n",
              "  </style>\n",
              "\n",
              "    <script>\n",
              "      const buttonEl =\n",
              "        document.querySelector('#df-15e95fd3-5cd0-4b2e-b75b-e05a6b5925f0 button.colab-df-convert');\n",
              "      buttonEl.style.display =\n",
              "        google.colab.kernel.accessAllowed ? 'block' : 'none';\n",
              "\n",
              "      async function convertToInteractive(key) {\n",
              "        const element = document.querySelector('#df-15e95fd3-5cd0-4b2e-b75b-e05a6b5925f0');\n",
              "        const dataTable =\n",
              "          await google.colab.kernel.invokeFunction('convertToInteractive',\n",
              "                                                    [key], {});\n",
              "        if (!dataTable) return;\n",
              "\n",
              "        const docLinkHtml = 'Like what you see? Visit the ' +\n",
              "          '<a target=\"_blank\" href=https://colab.research.google.com/notebooks/data_table.ipynb>data table notebook</a>'\n",
              "          + ' to learn more about interactive tables.';\n",
              "        element.innerHTML = '';\n",
              "        dataTable['output_type'] = 'display_data';\n",
              "        await google.colab.output.renderOutput(dataTable, element);\n",
              "        const docLink = document.createElement('div');\n",
              "        docLink.innerHTML = docLinkHtml;\n",
              "        element.appendChild(docLink);\n",
              "      }\n",
              "    </script>\n",
              "  </div>\n",
              "\n",
              "\n",
              "<div id=\"df-69056715-87dd-4c93-96c7-2e71d168f11d\">\n",
              "  <button class=\"colab-df-quickchart\" onclick=\"quickchart('df-69056715-87dd-4c93-96c7-2e71d168f11d')\"\n",
              "            title=\"Suggest charts\"\n",
              "            style=\"display:none;\">\n",
              "\n",
              "<svg xmlns=\"http://www.w3.org/2000/svg\" height=\"24px\"viewBox=\"0 0 24 24\"\n",
              "     width=\"24px\">\n",
              "    <g>\n",
              "        <path d=\"M19 3H5c-1.1 0-2 .9-2 2v14c0 1.1.9 2 2 2h14c1.1 0 2-.9 2-2V5c0-1.1-.9-2-2-2zM9 17H7v-7h2v7zm4 0h-2V7h2v10zm4 0h-2v-4h2v4z\"/>\n",
              "    </g>\n",
              "</svg>\n",
              "  </button>\n",
              "\n",
              "<style>\n",
              "  .colab-df-quickchart {\n",
              "      --bg-color: #E8F0FE;\n",
              "      --fill-color: #1967D2;\n",
              "      --hover-bg-color: #E2EBFA;\n",
              "      --hover-fill-color: #174EA6;\n",
              "      --disabled-fill-color: #AAA;\n",
              "      --disabled-bg-color: #DDD;\n",
              "  }\n",
              "\n",
              "  [theme=dark] .colab-df-quickchart {\n",
              "      --bg-color: #3B4455;\n",
              "      --fill-color: #D2E3FC;\n",
              "      --hover-bg-color: #434B5C;\n",
              "      --hover-fill-color: #FFFFFF;\n",
              "      --disabled-bg-color: #3B4455;\n",
              "      --disabled-fill-color: #666;\n",
              "  }\n",
              "\n",
              "  .colab-df-quickchart {\n",
              "    background-color: var(--bg-color);\n",
              "    border: none;\n",
              "    border-radius: 50%;\n",
              "    cursor: pointer;\n",
              "    display: none;\n",
              "    fill: var(--fill-color);\n",
              "    height: 32px;\n",
              "    padding: 0;\n",
              "    width: 32px;\n",
              "  }\n",
              "\n",
              "  .colab-df-quickchart:hover {\n",
              "    background-color: var(--hover-bg-color);\n",
              "    box-shadow: 0 1px 2px rgba(60, 64, 67, 0.3), 0 1px 3px 1px rgba(60, 64, 67, 0.15);\n",
              "    fill: var(--button-hover-fill-color);\n",
              "  }\n",
              "\n",
              "  .colab-df-quickchart-complete:disabled,\n",
              "  .colab-df-quickchart-complete:disabled:hover {\n",
              "    background-color: var(--disabled-bg-color);\n",
              "    fill: var(--disabled-fill-color);\n",
              "    box-shadow: none;\n",
              "  }\n",
              "\n",
              "  .colab-df-spinner {\n",
              "    border: 2px solid var(--fill-color);\n",
              "    border-color: transparent;\n",
              "    border-bottom-color: var(--fill-color);\n",
              "    animation:\n",
              "      spin 1s steps(1) infinite;\n",
              "  }\n",
              "\n",
              "  @keyframes spin {\n",
              "    0% {\n",
              "      border-color: transparent;\n",
              "      border-bottom-color: var(--fill-color);\n",
              "      border-left-color: var(--fill-color);\n",
              "    }\n",
              "    20% {\n",
              "      border-color: transparent;\n",
              "      border-left-color: var(--fill-color);\n",
              "      border-top-color: var(--fill-color);\n",
              "    }\n",
              "    30% {\n",
              "      border-color: transparent;\n",
              "      border-left-color: var(--fill-color);\n",
              "      border-top-color: var(--fill-color);\n",
              "      border-right-color: var(--fill-color);\n",
              "    }\n",
              "    40% {\n",
              "      border-color: transparent;\n",
              "      border-right-color: var(--fill-color);\n",
              "      border-top-color: var(--fill-color);\n",
              "    }\n",
              "    60% {\n",
              "      border-color: transparent;\n",
              "      border-right-color: var(--fill-color);\n",
              "    }\n",
              "    80% {\n",
              "      border-color: transparent;\n",
              "      border-right-color: var(--fill-color);\n",
              "      border-bottom-color: var(--fill-color);\n",
              "    }\n",
              "    90% {\n",
              "      border-color: transparent;\n",
              "      border-bottom-color: var(--fill-color);\n",
              "    }\n",
              "  }\n",
              "</style>\n",
              "\n",
              "  <script>\n",
              "    async function quickchart(key) {\n",
              "      const quickchartButtonEl =\n",
              "        document.querySelector('#' + key + ' button');\n",
              "      quickchartButtonEl.disabled = true;  // To prevent multiple clicks.\n",
              "      quickchartButtonEl.classList.add('colab-df-spinner');\n",
              "      try {\n",
              "        const charts = await google.colab.kernel.invokeFunction(\n",
              "            'suggestCharts', [key], {});\n",
              "      } catch (error) {\n",
              "        console.error('Error during call to suggestCharts:', error);\n",
              "      }\n",
              "      quickchartButtonEl.classList.remove('colab-df-spinner');\n",
              "      quickchartButtonEl.classList.add('colab-df-quickchart-complete');\n",
              "    }\n",
              "    (() => {\n",
              "      let quickchartButtonEl =\n",
              "        document.querySelector('#df-69056715-87dd-4c93-96c7-2e71d168f11d button');\n",
              "      quickchartButtonEl.style.display =\n",
              "        google.colab.kernel.accessAllowed ? 'block' : 'none';\n",
              "    })();\n",
              "  </script>\n",
              "</div>\n",
              "    </div>\n",
              "  </div>\n"
            ]
          },
          "metadata": {},
          "execution_count": 63
        }
      ]
    },
    {
      "source": [
        "# 股價走勢\n",
        "\n",
        "from matplotlib import pyplot as plt\n",
        "df_close['Close'].plot(kind='line', figsize=(8, 4), title='TSMC')\n",
        "plt.gca().spines[['top', 'right']].set_visible(False)"
      ],
      "cell_type": "code",
      "metadata": {
        "colab": {
          "base_uri": "https://localhost:8080/",
          "height": 391
        },
        "id": "ksjLuDFT8f80",
        "outputId": "46e72c17-98b5-4e66-c6dd-bc3a46acda78"
      },
      "execution_count": 64,
      "outputs": [
        {
          "output_type": "display_data",
          "data": {
            "text/plain": [
              "<Figure size 800x400 with 1 Axes>"
            ],
            "image/png": "[encoded data removed]"
          },
          "metadata": {}
        }
      ]
    },
    {
      "cell_type": "markdown",
      "source": [
        "### 資料串列\n",
        "前10天做為特徵，第11天做為標籤值，即用前10天的收盤價預測第11天的收盤價。"
      ],
      "metadata": {
        "id": "9xdKszPb9OV1"
      }
    },
    {
      "cell_type": "code",
      "source": [
        "sequence_length = 10\n",
        "data = []\n",
        "for i in range(len(df_close) - sequence_length):\n",
        "    data.append(df_close[i: i + sequence_length + 1])\n",
        "print(data[0])"
      ],
      "metadata": {
        "colab": {
          "base_uri": "https://localhost:8080/"
        },
        "id": "HgmMrVh5cfVo",
        "outputId": "19520032-9998-4c20-870e-29c71229644c"
      },
      "execution_count": 65,
      "outputs": [
        {
          "output_type": "stream",
          "name": "stdout",
          "text": [
            "    Close\n",
            "0    64.5\n",
            "1    64.1\n",
            "2    63.0\n",
            "3    63.0\n",
            "4    65.2\n",
            "5    67.1\n",
            "6    66.8\n",
            "7    67.4\n",
            "8    67.3\n",
            "9    64.6\n",
            "10   63.9\n"
          ]
        }
      ]
    },
    {
      "cell_type": "markdown",
      "source": [
        "### 資料標準化\n",
        "使用 MinMaxScaler() 把資料轉換到0~1之間"
      ],
      "metadata": {
        "id": "Dgc6gnqKK5nB"
      }
    },
    {
      "cell_type": "code",
      "source": [
        "sequence_length = 10\n",
        "df_close = MinMaxScaler().fit_transform(df_close)\n",
        "data = []\n",
        "for i in range(len(df_close) - sequence_length):\n",
        "    data.append(df_close[i: i + sequence_length + 1])"
      ],
      "metadata": {
        "id": "aBiEEOsPcivW"
      },
      "execution_count": 66,
      "outputs": []
    },
    {
      "cell_type": "markdown",
      "source": [
        "## 分割訓練、測試資料\n",
        "80%訓練、20%測試\n"
      ],
      "metadata": {
        "id": "VfIO1Jc-M52u"
      }
    },
    {
      "cell_type": "code",
      "source": [
        "reshaped_data = np.array(data)\n",
        "x = reshaped_data[:, :-1]\n",
        "y = reshaped_data[:, -1]"
      ],
      "metadata": {
        "id": "N6QaW17uckZC"
      },
      "execution_count": 67,
      "outputs": []
    },
    {
      "cell_type": "code",
      "source": [
        "split_boundary = int(reshaped_data.shape[0] * 0.8)\n",
        "train_x = x[: split_boundary]\n",
        "test_x = x[split_boundary:]\n",
        "train_y = y[: split_boundary]\n",
        "test_y = y[split_boundary:]\n",
        "print('training data：{}'.format(len(train_x)))\n",
        "print('testing data：{}'.format(len(test_x)))"
      ],
      "metadata": {
        "colab": {
          "base_uri": "https://localhost:8080/"
        },
        "id": "IS6gVHb6cl0Q",
        "outputId": "94c16f05-1e4f-405a-d6ff-4e11bab5adf7"
      },
      "execution_count": 68,
      "outputs": [
        {
          "output_type": "stream",
          "name": "stdout",
          "text": [
            "training data：3064\n",
            "testing data：767\n"
          ]
        }
      ]
    },
    {
      "cell_type": "markdown",
      "source": [
        "## RNN 建立與訓練"
      ],
      "metadata": {
        "id": "D8V_Ol-0cwmc"
      }
    },
    {
      "cell_type": "markdown",
      "source": [
        "### 建立模型、LSTM層"
      ],
      "metadata": {
        "id": "ijnPLFU0N6pU"
      }
    },
    {
      "cell_type": "code",
      "source": [
        "model = Sequential()\n",
        "model.add(LSTM(input_shape=(10,1), units=256, unroll=False))"
      ],
      "metadata": {
        "id": "45OEsi5Rc2ka"
      },
      "execution_count": 69,
      "outputs": []
    },
    {
      "cell_type": "markdown",
      "source": [
        "### 輸出層"
      ],
      "metadata": {
        "id": "k5780tQdOpLQ"
      }
    },
    {
      "cell_type": "code",
      "source": [
        "model.add(Dense(units=1))"
      ],
      "metadata": {
        "id": "2Qq5lqJ6c5lU"
      },
      "execution_count": 70,
      "outputs": []
    },
    {
      "cell_type": "markdown",
      "source": [
        "### 查看權重數量\n",
        "權重數量 = g * (n * (n+1) + n)"
      ],
      "metadata": {
        "id": "e1hsmExeOu1e"
      }
    },
    {
      "cell_type": "code",
      "source": [
        "model.summary()"
      ],
      "metadata": {
        "colab": {
          "base_uri": "https://localhost:8080/"
        },
        "id": "5ohC4WmYc5n5",
        "outputId": "d3cd0402-54c3-43c9-89c6-e9278dcbe9a7"
      },
      "execution_count": 71,
      "outputs": [
        {
          "output_type": "stream",
          "name": "stdout",
          "text": [
            "Model: \"sequential_4\"\n",
            "_________________________________________________________________\n",
            " Layer (type)                Output Shape              Param #   \n",
            "=================================================================\n",
            " lstm_4 (LSTM)               (None, 256)               264192    \n",
            "                                                                 \n",
            " dense_3 (Dense)             (None, 1)                 257       \n",
            "                                                                 \n",
            "=================================================================\n",
            "Total params: 264449 (1.01 MB)\n",
            "Trainable params: 264449 (1.01 MB)\n",
            "Non-trainable params: 0 (0.00 Byte)\n",
            "_________________________________________________________________\n"
          ]
        }
      ]
    },
    {
      "cell_type": "markdown",
      "source": [
        "### 訓練、儲存模型"
      ],
      "metadata": {
        "id": "6rQywPPfVCID"
      }
    },
    {
      "cell_type": "code",
      "source": [
        "model.compile(loss=\"mse\", optimizer=\"adam\",\n",
        "              metrics=['accuracy'])\n",
        "model.fit(train_x, train_y, batch_size=100,\n",
        "          epochs=100, validation_split=0.2,\n",
        "          verbose=2)\n",
        "\n",
        "model.save('/content/stock_model.keras')"
      ],
      "metadata": {
        "colab": {
          "base_uri": "https://localhost:8080/"
        },
        "id": "Kgrqxewxc5qI",
        "outputId": "a90f298d-e94b-4b28-bded-08297fc9266f"
      },
      "execution_count": 72,
      "outputs": [
        {
          "output_type": "stream",
          "name": "stdout",
          "text": [
            "Epoch 1/100\n",
            "25/25 - 3s - loss: 0.0028 - accuracy: 4.0800e-04 - val_loss: 2.1161e-04 - val_accuracy: 0.0000e+00 - 3s/epoch - 118ms/step\n",
            "Epoch 2/100\n",
            "25/25 - 0s - loss: 9.1755e-05 - accuracy: 4.0800e-04 - val_loss: 2.2250e-04 - val_accuracy: 0.0000e+00 - 188ms/epoch - 8ms/step\n",
            "Epoch 3/100\n",
            "25/25 - 0s - loss: 2.5849e-05 - accuracy: 4.0800e-04 - val_loss: 2.0451e-04 - val_accuracy: 0.0000e+00 - 201ms/epoch - 8ms/step\n",
            "Epoch 4/100\n",
            "25/25 - 0s - loss: 2.0980e-05 - accuracy: 4.0800e-04 - val_loss: 1.9269e-04 - val_accuracy: 0.0000e+00 - 216ms/epoch - 9ms/step\n",
            "Epoch 5/100\n",
            "25/25 - 0s - loss: 2.0931e-05 - accuracy: 4.0800e-04 - val_loss: 1.8951e-04 - val_accuracy: 0.0000e+00 - 205ms/epoch - 8ms/step\n",
            "Epoch 6/100\n",
            "25/25 - 0s - loss: 2.0301e-05 - accuracy: 4.0800e-04 - val_loss: 2.0424e-04 - val_accuracy: 0.0000e+00 - 156ms/epoch - 6ms/step\n",
            "Epoch 7/100\n",
            "25/25 - 0s - loss: 2.0922e-05 - accuracy: 4.0800e-04 - val_loss: 1.9072e-04 - val_accuracy: 0.0000e+00 - 158ms/epoch - 6ms/step\n",
            "Epoch 8/100\n",
            "25/25 - 0s - loss: 2.1055e-05 - accuracy: 4.0800e-04 - val_loss: 1.9509e-04 - val_accuracy: 0.0000e+00 - 152ms/epoch - 6ms/step\n",
            "Epoch 9/100\n",
            "25/25 - 0s - loss: 2.2718e-05 - accuracy: 4.0800e-04 - val_loss: 1.8815e-04 - val_accuracy: 0.0000e+00 - 159ms/epoch - 6ms/step\n",
            "Epoch 10/100\n",
            "25/25 - 0s - loss: 2.0808e-05 - accuracy: 4.0800e-04 - val_loss: 1.9761e-04 - val_accuracy: 0.0000e+00 - 149ms/epoch - 6ms/step\n",
            "Epoch 11/100\n",
            "25/25 - 0s - loss: 2.1821e-05 - accuracy: 4.0800e-04 - val_loss: 2.0070e-04 - val_accuracy: 0.0000e+00 - 213ms/epoch - 9ms/step\n",
            "Epoch 12/100\n",
            "25/25 - 0s - loss: 2.0629e-05 - accuracy: 4.0800e-04 - val_loss: 1.8704e-04 - val_accuracy: 0.0000e+00 - 183ms/epoch - 7ms/step\n",
            "Epoch 13/100\n",
            "25/25 - 0s - loss: 2.0060e-05 - accuracy: 4.0800e-04 - val_loss: 1.8677e-04 - val_accuracy: 0.0000e+00 - 196ms/epoch - 8ms/step\n",
            "Epoch 14/100\n",
            "25/25 - 0s - loss: 2.0018e-05 - accuracy: 4.0800e-04 - val_loss: 2.1214e-04 - val_accuracy: 0.0000e+00 - 161ms/epoch - 6ms/step\n",
            "Epoch 15/100\n",
            "25/25 - 0s - loss: 2.0488e-05 - accuracy: 4.0800e-04 - val_loss: 1.9189e-04 - val_accuracy: 0.0000e+00 - 199ms/epoch - 8ms/step\n",
            "Epoch 16/100\n",
            "25/25 - 0s - loss: 2.0306e-05 - accuracy: 4.0800e-04 - val_loss: 1.8380e-04 - val_accuracy: 0.0000e+00 - 273ms/epoch - 11ms/step\n",
            "Epoch 17/100\n",
            "25/25 - 0s - loss: 1.9964e-05 - accuracy: 4.0800e-04 - val_loss: 1.8214e-04 - val_accuracy: 0.0000e+00 - 229ms/epoch - 9ms/step\n",
            "Epoch 18/100\n",
            "25/25 - 0s - loss: 2.0817e-05 - accuracy: 4.0800e-04 - val_loss: 1.8085e-04 - val_accuracy: 0.0000e+00 - 217ms/epoch - 9ms/step\n",
            "Epoch 19/100\n",
            "25/25 - 0s - loss: 1.9523e-05 - accuracy: 4.0800e-04 - val_loss: 1.7979e-04 - val_accuracy: 0.0000e+00 - 218ms/epoch - 9ms/step\n",
            "Epoch 20/100\n",
            "25/25 - 0s - loss: 1.9604e-05 - accuracy: 4.0800e-04 - val_loss: 1.8923e-04 - val_accuracy: 0.0000e+00 - 235ms/epoch - 9ms/step\n",
            "Epoch 21/100\n",
            "25/25 - 0s - loss: 2.0485e-05 - accuracy: 4.0800e-04 - val_loss: 1.7779e-04 - val_accuracy: 0.0000e+00 - 246ms/epoch - 10ms/step\n",
            "Epoch 22/100\n",
            "25/25 - 0s - loss: 1.9380e-05 - accuracy: 4.0800e-04 - val_loss: 1.8011e-04 - val_accuracy: 0.0000e+00 - 249ms/epoch - 10ms/step\n",
            "Epoch 23/100\n",
            "25/25 - 0s - loss: 2.0403e-05 - accuracy: 4.0800e-04 - val_loss: 2.0464e-04 - val_accuracy: 0.0000e+00 - 243ms/epoch - 10ms/step\n",
            "Epoch 24/100\n",
            "25/25 - 0s - loss: 2.0260e-05 - accuracy: 4.0800e-04 - val_loss: 1.9464e-04 - val_accuracy: 0.0000e+00 - 303ms/epoch - 12ms/step\n",
            "Epoch 25/100\n",
            "25/25 - 0s - loss: 2.0635e-05 - accuracy: 4.0800e-04 - val_loss: 2.0859e-04 - val_accuracy: 0.0000e+00 - 391ms/epoch - 16ms/step\n",
            "Epoch 26/100\n",
            "25/25 - 0s - loss: 2.2129e-05 - accuracy: 4.0800e-04 - val_loss: 1.8546e-04 - val_accuracy: 0.0000e+00 - 331ms/epoch - 13ms/step\n",
            "Epoch 27/100\n",
            "25/25 - 0s - loss: 1.9892e-05 - accuracy: 4.0800e-04 - val_loss: 1.7755e-04 - val_accuracy: 0.0000e+00 - 273ms/epoch - 11ms/step\n",
            "Epoch 28/100\n",
            "25/25 - 0s - loss: 1.9332e-05 - accuracy: 4.0800e-04 - val_loss: 1.7386e-04 - val_accuracy: 0.0000e+00 - 330ms/epoch - 13ms/step\n",
            "Epoch 29/100\n",
            "25/25 - 0s - loss: 1.9097e-05 - accuracy: 4.0800e-04 - val_loss: 1.7399e-04 - val_accuracy: 0.0000e+00 - 297ms/epoch - 12ms/step\n",
            "Epoch 30/100\n",
            "25/25 - 0s - loss: 1.9504e-05 - accuracy: 4.0800e-04 - val_loss: 1.6924e-04 - val_accuracy: 0.0000e+00 - 340ms/epoch - 14ms/step\n",
            "Epoch 31/100\n",
            "25/25 - 0s - loss: 1.9951e-05 - accuracy: 4.0800e-04 - val_loss: 1.7059e-04 - val_accuracy: 0.0000e+00 - 255ms/epoch - 10ms/step\n",
            "Epoch 32/100\n",
            "25/25 - 0s - loss: 1.8675e-05 - accuracy: 4.0800e-04 - val_loss: 1.6957e-04 - val_accuracy: 0.0000e+00 - 272ms/epoch - 11ms/step\n",
            "Epoch 33/100\n",
            "25/25 - 0s - loss: 2.1517e-05 - accuracy: 4.0800e-04 - val_loss: 1.7317e-04 - val_accuracy: 0.0000e+00 - 280ms/epoch - 11ms/step\n",
            "Epoch 34/100\n",
            "25/25 - 0s - loss: 2.1275e-05 - accuracy: 4.0800e-04 - val_loss: 1.6439e-04 - val_accuracy: 0.0000e+00 - 260ms/epoch - 10ms/step\n",
            "Epoch 35/100\n",
            "25/25 - 0s - loss: 1.9275e-05 - accuracy: 4.0800e-04 - val_loss: 1.7753e-04 - val_accuracy: 0.0000e+00 - 285ms/epoch - 11ms/step\n",
            "Epoch 36/100\n",
            "25/25 - 0s - loss: 1.9290e-05 - accuracy: 4.0800e-04 - val_loss: 1.6924e-04 - val_accuracy: 0.0000e+00 - 290ms/epoch - 12ms/step\n",
            "Epoch 37/100\n",
            "25/25 - 0s - loss: 1.8807e-05 - accuracy: 4.0800e-04 - val_loss: 1.6670e-04 - val_accuracy: 0.0000e+00 - 316ms/epoch - 13ms/step\n",
            "Epoch 38/100\n",
            "25/25 - 0s - loss: 1.9824e-05 - accuracy: 4.0800e-04 - val_loss: 1.6036e-04 - val_accuracy: 0.0000e+00 - 230ms/epoch - 9ms/step\n",
            "Epoch 39/100\n",
            "25/25 - 0s - loss: 1.8272e-05 - accuracy: 4.0800e-04 - val_loss: 1.5925e-04 - val_accuracy: 0.0000e+00 - 263ms/epoch - 11ms/step\n",
            "Epoch 40/100\n",
            "25/25 - 0s - loss: 1.9175e-05 - accuracy: 4.0800e-04 - val_loss: 1.9674e-04 - val_accuracy: 0.0000e+00 - 276ms/epoch - 11ms/step\n",
            "Epoch 41/100\n",
            "25/25 - 0s - loss: 2.1843e-05 - accuracy: 4.0800e-04 - val_loss: 1.8981e-04 - val_accuracy: 0.0000e+00 - 249ms/epoch - 10ms/step\n",
            "Epoch 42/100\n",
            "25/25 - 0s - loss: 1.8490e-05 - accuracy: 4.0800e-04 - val_loss: 1.6073e-04 - val_accuracy: 0.0000e+00 - 297ms/epoch - 12ms/step\n",
            "Epoch 43/100\n",
            "25/25 - 0s - loss: 1.9126e-05 - accuracy: 4.0800e-04 - val_loss: 1.5420e-04 - val_accuracy: 0.0000e+00 - 260ms/epoch - 10ms/step\n",
            "Epoch 44/100\n",
            "25/25 - 0s - loss: 1.9367e-05 - accuracy: 4.0800e-04 - val_loss: 1.5419e-04 - val_accuracy: 0.0000e+00 - 304ms/epoch - 12ms/step\n",
            "Epoch 45/100\n",
            "25/25 - 0s - loss: 1.7839e-05 - accuracy: 4.0800e-04 - val_loss: 1.6435e-04 - val_accuracy: 0.0000e+00 - 254ms/epoch - 10ms/step\n",
            "Epoch 46/100\n",
            "25/25 - 0s - loss: 1.7683e-05 - accuracy: 4.0800e-04 - val_loss: 1.5738e-04 - val_accuracy: 0.0000e+00 - 265ms/epoch - 11ms/step\n",
            "Epoch 47/100\n",
            "25/25 - 0s - loss: 1.8240e-05 - accuracy: 4.0800e-04 - val_loss: 2.2826e-04 - val_accuracy: 0.0000e+00 - 220ms/epoch - 9ms/step\n",
            "Epoch 48/100\n",
            "25/25 - 0s - loss: 1.9237e-05 - accuracy: 4.0800e-04 - val_loss: 1.5326e-04 - val_accuracy: 0.0000e+00 - 277ms/epoch - 11ms/step\n",
            "Epoch 49/100\n",
            "25/25 - 0s - loss: 1.7572e-05 - accuracy: 4.0800e-04 - val_loss: 1.5085e-04 - val_accuracy: 0.0000e+00 - 225ms/epoch - 9ms/step\n",
            "Epoch 50/100\n",
            "25/25 - 0s - loss: 1.8894e-05 - accuracy: 4.0800e-04 - val_loss: 1.5303e-04 - val_accuracy: 0.0000e+00 - 326ms/epoch - 13ms/step\n",
            "Epoch 51/100\n",
            "25/25 - 0s - loss: 1.7297e-05 - accuracy: 4.0800e-04 - val_loss: 1.5104e-04 - val_accuracy: 0.0000e+00 - 255ms/epoch - 10ms/step\n",
            "Epoch 52/100\n",
            "25/25 - 0s - loss: 1.8155e-05 - accuracy: 4.0800e-04 - val_loss: 1.4750e-04 - val_accuracy: 0.0000e+00 - 225ms/epoch - 9ms/step\n",
            "Epoch 53/100\n",
            "25/25 - 0s - loss: 1.8780e-05 - accuracy: 4.0800e-04 - val_loss: 1.4980e-04 - val_accuracy: 0.0000e+00 - 260ms/epoch - 10ms/step\n",
            "Epoch 54/100\n",
            "25/25 - 0s - loss: 1.7274e-05 - accuracy: 4.0800e-04 - val_loss: 1.4358e-04 - val_accuracy: 0.0000e+00 - 318ms/epoch - 13ms/step\n",
            "Epoch 55/100\n",
            "25/25 - 0s - loss: 1.8994e-05 - accuracy: 4.0800e-04 - val_loss: 2.3686e-04 - val_accuracy: 0.0000e+00 - 299ms/epoch - 12ms/step\n",
            "Epoch 56/100\n",
            "25/25 - 0s - loss: 2.1738e-05 - accuracy: 4.0800e-04 - val_loss: 1.5554e-04 - val_accuracy: 0.0000e+00 - 338ms/epoch - 14ms/step\n",
            "Epoch 57/100\n",
            "25/25 - 0s - loss: 1.9384e-05 - accuracy: 4.0800e-04 - val_loss: 1.4475e-04 - val_accuracy: 0.0000e+00 - 350ms/epoch - 14ms/step\n",
            "Epoch 58/100\n",
            "25/25 - 0s - loss: 1.6660e-05 - accuracy: 4.0800e-04 - val_loss: 1.3903e-04 - val_accuracy: 0.0000e+00 - 284ms/epoch - 11ms/step\n",
            "Epoch 59/100\n",
            "25/25 - 0s - loss: 1.8007e-05 - accuracy: 4.0800e-04 - val_loss: 1.3806e-04 - val_accuracy: 0.0000e+00 - 265ms/epoch - 11ms/step\n",
            "Epoch 60/100\n",
            "25/25 - 0s - loss: 1.9001e-05 - accuracy: 4.0800e-04 - val_loss: 1.3855e-04 - val_accuracy: 0.0000e+00 - 232ms/epoch - 9ms/step\n",
            "Epoch 61/100\n",
            "25/25 - 0s - loss: 1.8023e-05 - accuracy: 4.0800e-04 - val_loss: 1.5144e-04 - val_accuracy: 0.0000e+00 - 293ms/epoch - 12ms/step\n",
            "Epoch 62/100\n",
            "25/25 - 0s - loss: 1.7901e-05 - accuracy: 4.0800e-04 - val_loss: 1.3612e-04 - val_accuracy: 0.0000e+00 - 262ms/epoch - 10ms/step\n",
            "Epoch 63/100\n",
            "25/25 - 0s - loss: 1.5691e-05 - accuracy: 4.0800e-04 - val_loss: 1.4612e-04 - val_accuracy: 0.0000e+00 - 254ms/epoch - 10ms/step\n",
            "Epoch 64/100\n",
            "25/25 - 0s - loss: 1.9313e-05 - accuracy: 4.0800e-04 - val_loss: 1.3816e-04 - val_accuracy: 0.0000e+00 - 252ms/epoch - 10ms/step\n",
            "Epoch 65/100\n",
            "25/25 - 0s - loss: 1.6748e-05 - accuracy: 4.0800e-04 - val_loss: 1.3424e-04 - val_accuracy: 0.0000e+00 - 365ms/epoch - 15ms/step\n",
            "Epoch 66/100\n",
            "25/25 - 1s - loss: 1.7905e-05 - accuracy: 4.0800e-04 - val_loss: 1.4095e-04 - val_accuracy: 0.0000e+00 - 519ms/epoch - 21ms/step\n",
            "Epoch 67/100\n",
            "25/25 - 0s - loss: 1.7483e-05 - accuracy: 4.0800e-04 - val_loss: 1.5378e-04 - val_accuracy: 0.0000e+00 - 458ms/epoch - 18ms/step\n",
            "Epoch 68/100\n",
            "25/25 - 0s - loss: 1.6783e-05 - accuracy: 4.0800e-04 - val_loss: 1.3013e-04 - val_accuracy: 0.0000e+00 - 388ms/epoch - 16ms/step\n",
            "Epoch 69/100\n",
            "25/25 - 0s - loss: 1.7042e-05 - accuracy: 4.0800e-04 - val_loss: 1.3062e-04 - val_accuracy: 0.0000e+00 - 384ms/epoch - 15ms/step\n",
            "Epoch 70/100\n",
            "25/25 - 0s - loss: 1.5728e-05 - accuracy: 4.0800e-04 - val_loss: 1.3439e-04 - val_accuracy: 0.0000e+00 - 437ms/epoch - 17ms/step\n",
            "Epoch 71/100\n",
            "25/25 - 1s - loss: 1.5360e-05 - accuracy: 4.0800e-04 - val_loss: 1.4033e-04 - val_accuracy: 0.0000e+00 - 508ms/epoch - 20ms/step\n",
            "Epoch 72/100\n",
            "25/25 - 0s - loss: 1.6893e-05 - accuracy: 4.0800e-04 - val_loss: 1.2718e-04 - val_accuracy: 0.0000e+00 - 369ms/epoch - 15ms/step\n",
            "Epoch 73/100\n",
            "25/25 - 0s - loss: 1.5407e-05 - accuracy: 4.0800e-04 - val_loss: 1.3174e-04 - val_accuracy: 0.0000e+00 - 393ms/epoch - 16ms/step\n",
            "Epoch 74/100\n",
            "25/25 - 0s - loss: 1.6485e-05 - accuracy: 4.0800e-04 - val_loss: 1.2639e-04 - val_accuracy: 0.0000e+00 - 314ms/epoch - 13ms/step\n",
            "Epoch 75/100\n",
            "25/25 - 0s - loss: 1.6197e-05 - accuracy: 4.0800e-04 - val_loss: 1.2967e-04 - val_accuracy: 0.0000e+00 - 425ms/epoch - 17ms/step\n",
            "Epoch 76/100\n",
            "25/25 - 0s - loss: 1.6476e-05 - accuracy: 4.0800e-04 - val_loss: 1.2663e-04 - val_accuracy: 0.0000e+00 - 252ms/epoch - 10ms/step\n",
            "Epoch 77/100\n",
            "25/25 - 0s - loss: 1.5393e-05 - accuracy: 4.0800e-04 - val_loss: 1.2285e-04 - val_accuracy: 0.0000e+00 - 311ms/epoch - 12ms/step\n",
            "Epoch 78/100\n",
            "25/25 - 0s - loss: 1.5724e-05 - accuracy: 4.0800e-04 - val_loss: 1.2601e-04 - val_accuracy: 0.0000e+00 - 264ms/epoch - 11ms/step\n",
            "Epoch 79/100\n",
            "25/25 - 0s - loss: 1.5672e-05 - accuracy: 4.0800e-04 - val_loss: 1.3339e-04 - val_accuracy: 0.0000e+00 - 346ms/epoch - 14ms/step\n",
            "Epoch 80/100\n",
            "25/25 - 0s - loss: 1.5720e-05 - accuracy: 4.0800e-04 - val_loss: 1.2056e-04 - val_accuracy: 0.0000e+00 - 316ms/epoch - 13ms/step\n",
            "Epoch 81/100\n",
            "25/25 - 0s - loss: 1.6285e-05 - accuracy: 4.0800e-04 - val_loss: 1.7026e-04 - val_accuracy: 0.0000e+00 - 263ms/epoch - 11ms/step\n",
            "Epoch 82/100\n",
            "25/25 - 0s - loss: 1.5096e-05 - accuracy: 4.0800e-04 - val_loss: 1.2054e-04 - val_accuracy: 0.0000e+00 - 249ms/epoch - 10ms/step\n",
            "Epoch 83/100\n",
            "25/25 - 0s - loss: 1.5066e-05 - accuracy: 4.0800e-04 - val_loss: 1.1935e-04 - val_accuracy: 0.0000e+00 - 274ms/epoch - 11ms/step\n",
            "Epoch 84/100\n",
            "25/25 - 0s - loss: 1.5892e-05 - accuracy: 4.0800e-04 - val_loss: 1.4119e-04 - val_accuracy: 0.0000e+00 - 257ms/epoch - 10ms/step\n",
            "Epoch 85/100\n",
            "25/25 - 0s - loss: 1.6560e-05 - accuracy: 4.0800e-04 - val_loss: 1.1962e-04 - val_accuracy: 0.0000e+00 - 345ms/epoch - 14ms/step\n",
            "Epoch 86/100\n",
            "25/25 - 0s - loss: 1.5567e-05 - accuracy: 4.0800e-04 - val_loss: 1.2437e-04 - val_accuracy: 0.0000e+00 - 267ms/epoch - 11ms/step\n",
            "Epoch 87/100\n",
            "25/25 - 0s - loss: 1.6296e-05 - accuracy: 4.0800e-04 - val_loss: 1.1662e-04 - val_accuracy: 0.0000e+00 - 240ms/epoch - 10ms/step\n",
            "Epoch 88/100\n",
            "25/25 - 0s - loss: 1.7271e-05 - accuracy: 4.0800e-04 - val_loss: 1.4375e-04 - val_accuracy: 0.0000e+00 - 319ms/epoch - 13ms/step\n",
            "Epoch 89/100\n",
            "25/25 - 0s - loss: 1.7325e-05 - accuracy: 4.0800e-04 - val_loss: 1.7810e-04 - val_accuracy: 0.0000e+00 - 249ms/epoch - 10ms/step\n",
            "Epoch 90/100\n",
            "25/25 - 0s - loss: 1.5629e-05 - accuracy: 4.0800e-04 - val_loss: 1.3906e-04 - val_accuracy: 0.0000e+00 - 299ms/epoch - 12ms/step\n",
            "Epoch 91/100\n",
            "25/25 - 0s - loss: 1.7412e-05 - accuracy: 4.0800e-04 - val_loss: 1.3441e-04 - val_accuracy: 0.0000e+00 - 314ms/epoch - 13ms/step\n",
            "Epoch 92/100\n",
            "25/25 - 0s - loss: 1.5606e-05 - accuracy: 4.0800e-04 - val_loss: 1.1188e-04 - val_accuracy: 0.0000e+00 - 297ms/epoch - 12ms/step\n",
            "Epoch 93/100\n",
            "25/25 - 0s - loss: 1.3940e-05 - accuracy: 4.0800e-04 - val_loss: 1.1373e-04 - val_accuracy: 0.0000e+00 - 446ms/epoch - 18ms/step\n",
            "Epoch 94/100\n",
            "25/25 - 0s - loss: 1.6663e-05 - accuracy: 4.0800e-04 - val_loss: 1.3560e-04 - val_accuracy: 0.0000e+00 - 350ms/epoch - 14ms/step\n",
            "Epoch 95/100\n",
            "25/25 - 0s - loss: 1.5552e-05 - accuracy: 4.0800e-04 - val_loss: 1.1025e-04 - val_accuracy: 0.0000e+00 - 261ms/epoch - 10ms/step\n",
            "Epoch 96/100\n",
            "25/25 - 0s - loss: 1.4502e-05 - accuracy: 4.0800e-04 - val_loss: 1.1171e-04 - val_accuracy: 0.0000e+00 - 328ms/epoch - 13ms/step\n",
            "Epoch 97/100\n",
            "25/25 - 0s - loss: 1.4112e-05 - accuracy: 4.0800e-04 - val_loss: 1.1659e-04 - val_accuracy: 0.0000e+00 - 334ms/epoch - 13ms/step\n",
            "Epoch 98/100\n",
            "25/25 - 0s - loss: 1.9232e-05 - accuracy: 4.0800e-04 - val_loss: 1.0870e-04 - val_accuracy: 0.0000e+00 - 271ms/epoch - 11ms/step\n",
            "Epoch 99/100\n",
            "25/25 - 0s - loss: 1.6242e-05 - accuracy: 4.0800e-04 - val_loss: 1.1311e-04 - val_accuracy: 0.0000e+00 - 174ms/epoch - 7ms/step\n",
            "Epoch 100/100\n",
            "25/25 - 0s - loss: 1.5160e-05 - accuracy: 4.0800e-04 - val_loss: 1.1512e-04 - val_accuracy: 0.0000e+00 - 151ms/epoch - 6ms/step\n"
          ]
        }
      ]
    },
    {
      "cell_type": "markdown",
      "source": [
        "## 預測股票收盤價"
      ],
      "metadata": {
        "id": "If03K713jl5D"
      }
    },
    {
      "cell_type": "code",
      "source": [
        "import pandas as pd\n",
        "import numpy as np\n",
        "import matplotlib.pyplot as plt\n",
        "from sklearn.preprocessing import MinMaxScaler\n",
        "from keras.models import load_model\n",
        "\n",
        "df = pd.read_csv('/content/2330.csv')\n",
        "df_close = pd.DataFrame(df['Close'])\n",
        "sequence_length = 10\n",
        "scaler = MinMaxScaler()\n",
        "df_close = scaler.fit_transform(df_close)\n",
        "data = []\n",
        "for i in range(len(df_close) - sequence_length):\n",
        "    data.append(df_close[i: i + sequence_length + 1])\n",
        "reshaped_data = np.array(data)\n",
        "x = reshaped_data[:, :-1]\n",
        "y = reshaped_data[:, -1]\n",
        "split_boundary = int(reshaped_data.shape[0] * 0.8)\n",
        "train_x = x[: split_boundary]\n",
        "test_x = x[split_boundary:]\n",
        "train_y = y[: split_boundary]\n",
        "test_y = y[split_boundary:]\n",
        "\n",
        "# 訓練好的模型\n",
        "model = load_model('stock_model.keras')\n",
        "predict = model.predict(test_x)\n",
        "predict = scaler.inverse_transform(predict)\n",
        "test_y = scaler.inverse_transform(test_y)\n",
        "\n",
        "plt.figure(figsize=(12,6))\n",
        "plt.plot(predict, 'b-')\n",
        "plt.plot(test_y, 'r-')\n",
        "plt.legend(['predict', 'realdata'])\n",
        "plt.show()"
      ],
      "metadata": {
        "colab": {
          "base_uri": "https://localhost:8080/",
          "height": 539
        },
        "id": "ZubD_QkOc5r4",
        "outputId": "5e462a4c-51f3-4f7d-ed7e-081d85ef0685"
      },
      "execution_count": 73,
      "outputs": [
        {
          "output_type": "stream",
          "name": "stdout",
          "text": [
            "24/24 [==============================] - 0s 3ms/step\n"
          ]
        },
        {
          "output_type": "display_data",
          "data": {
            "text/plain": [
              "<Figure size 1200x600 with 1 Axes>"
            ],
            "image/png": "[encoded data removed]"
          },
          "metadata": {}
        }
      ]
    }
  ]
}